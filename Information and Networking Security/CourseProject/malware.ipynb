{
 "cells": [
  {
   "cell_type": "code",
   "id": "initial_id",
   "metadata": {
    "collapsed": true,
    "jupyter": {
     "is_executing": true
    }
   },
   "source": [
    "import numpy as np\n",
    "import pandas as pd\n",
    "import matplotlib.pyplot as plt\n",
    "from sklearn import preprocessing\n",
    "from sklearn.preprocessing import LabelEncoder\n",
    "from scipy import stats\n",
    "from IPython.display import HTML\n",
    "import seaborn as sns\n",
    "pd.set_option('display.max_columns', None)"
   ],
   "outputs": [],
   "execution_count": null
  },
  {
   "metadata": {
    "ExecuteTime": {
     "end_time": "2024-09-13T15:57:33.821163Z",
     "start_time": "2024-09-13T15:57:33.804475Z"
    }
   },
   "cell_type": "code",
   "source": [
    "df = pd.read_csv('attacks.csv')\n",
    "df2 = df\n",
    "df.head()"
   ],
   "id": "f200bb863cddceeb",
   "outputs": [
    {
     "ename": "NameError",
     "evalue": "name 'pd' is not defined",
     "output_type": "error",
     "traceback": [
      "\u001B[0;31m---------------------------------------------------------------------------\u001B[0m",
      "\u001B[0;31mNameError\u001B[0m                                 Traceback (most recent call last)",
      "Cell \u001B[0;32mIn[1], line 1\u001B[0m\n\u001B[0;32m----> 1\u001B[0m df \u001B[38;5;241m=\u001B[39m \u001B[43mpd\u001B[49m\u001B[38;5;241m.\u001B[39mread_csv(\u001B[38;5;124m'\u001B[39m\u001B[38;5;124mattacks.csv\u001B[39m\u001B[38;5;124m'\u001B[39m)\n\u001B[1;32m      2\u001B[0m df2 \u001B[38;5;241m=\u001B[39m df\n\u001B[1;32m      3\u001B[0m df\u001B[38;5;241m.\u001B[39mhead()\n",
      "\u001B[0;31mNameError\u001B[0m: name 'pd' is not defined"
     ]
    }
   ],
   "execution_count": 1
  },
  {
   "metadata": {
    "ExecuteTime": {
     "end_time": "2024-09-13T15:57:33.943413868Z",
     "start_time": "2024-09-10T04:24:36.545473Z"
    }
   },
   "cell_type": "code",
   "source": "df.info()",
   "id": "60e892700e112998",
   "outputs": [
    {
     "name": "stdout",
     "output_type": "stream",
     "text": [
      "<class 'pandas.core.frame.DataFrame'>\n",
      "RangeIndex: 800000 entries, 0 to 799999\n",
      "Data columns (total 25 columns):\n",
      " #   Column       Non-Null Count   Dtype \n",
      "---  ------       --------------   ----- \n",
      " 0   src_ipv4     800000 non-null  object\n",
      " 1   src_ipv6     800000 non-null  object\n",
      " 2   src_mac      800000 non-null  object\n",
      " 3   src_port     800000 non-null  int64 \n",
      " 4   dest_port    800000 non-null  int64 \n",
      " 5   duration     800000 non-null  int64 \n",
      " 6   os           800000 non-null  object\n",
      " 7   packet_size  800000 non-null  int64 \n",
      " 8   tcp          800000 non-null  object\n",
      " 9   udp          800000 non-null  object\n",
      " 10  http         800000 non-null  object\n",
      " 11  https        800000 non-null  object\n",
      " 12  ssh          800000 non-null  object\n",
      " 13  smtp         800000 non-null  object\n",
      " 14  pop3         800000 non-null  object\n",
      " 15  ftp          800000 non-null  object\n",
      " 16  icmp         800000 non-null  object\n",
      " 17  syn          800000 non-null  object\n",
      " 18  ack          800000 non-null  object\n",
      " 19  fin          800000 non-null  object\n",
      " 20  psh          800000 non-null  object\n",
      " 21  urg          800000 non-null  object\n",
      " 22  ece          800000 non-null  object\n",
      " 23  cwr          800000 non-null  object\n",
      " 24  attack_type  800000 non-null  object\n",
      "dtypes: int64(4), object(21)\n",
      "memory usage: 152.6+ MB\n"
     ]
    }
   ],
   "execution_count": 4
  },
  {
   "metadata": {
    "ExecuteTime": {
     "end_time": "2024-09-13T15:57:33.973630313Z",
     "start_time": "2024-09-10T04:24:36.978608Z"
    }
   },
   "cell_type": "code",
   "source": "df.describe()",
   "id": "d84a2a467e619b4e",
   "outputs": [
    {
     "data": {
      "text/plain": [
       "            src_port     dest_port      duration   packet_size\n",
       "count  800000.000000  800000.00000  8.000000e+05  8.000000e+05\n",
       "mean    32780.646821   32775.47324  5.241233e+05  5.241068e+05\n",
       "std     18915.455978   18923.18738  3.026008e+05  3.030320e+05\n",
       "min         0.000000       0.00000  3.000000e+00  3.000000e+00\n",
       "25%     16432.750000   16371.00000  2.623248e+05  2.613102e+05\n",
       "50%     32796.000000   32792.00000  5.236865e+05  5.240365e+05\n",
       "75%     49147.000000   49148.00000  7.862242e+05  7.865182e+05\n",
       "max     65535.000000   65535.00000  1.048575e+06  1.048575e+06"
      ],
      "text/html": [
       "<div>\n",
       "<style scoped>\n",
       "    .dataframe tbody tr th:only-of-type {\n",
       "        vertical-align: middle;\n",
       "    }\n",
       "\n",
       "    .dataframe tbody tr th {\n",
       "        vertical-align: top;\n",
       "    }\n",
       "\n",
       "    .dataframe thead th {\n",
       "        text-align: right;\n",
       "    }\n",
       "</style>\n",
       "<table border=\"1\" class=\"dataframe\">\n",
       "  <thead>\n",
       "    <tr style=\"text-align: right;\">\n",
       "      <th></th>\n",
       "      <th>src_port</th>\n",
       "      <th>dest_port</th>\n",
       "      <th>duration</th>\n",
       "      <th>packet_size</th>\n",
       "    </tr>\n",
       "  </thead>\n",
       "  <tbody>\n",
       "    <tr>\n",
       "      <th>count</th>\n",
       "      <td>800000.000000</td>\n",
       "      <td>800000.00000</td>\n",
       "      <td>8.000000e+05</td>\n",
       "      <td>8.000000e+05</td>\n",
       "    </tr>\n",
       "    <tr>\n",
       "      <th>mean</th>\n",
       "      <td>32780.646821</td>\n",
       "      <td>32775.47324</td>\n",
       "      <td>5.241233e+05</td>\n",
       "      <td>5.241068e+05</td>\n",
       "    </tr>\n",
       "    <tr>\n",
       "      <th>std</th>\n",
       "      <td>18915.455978</td>\n",
       "      <td>18923.18738</td>\n",
       "      <td>3.026008e+05</td>\n",
       "      <td>3.030320e+05</td>\n",
       "    </tr>\n",
       "    <tr>\n",
       "      <th>min</th>\n",
       "      <td>0.000000</td>\n",
       "      <td>0.00000</td>\n",
       "      <td>3.000000e+00</td>\n",
       "      <td>3.000000e+00</td>\n",
       "    </tr>\n",
       "    <tr>\n",
       "      <th>25%</th>\n",
       "      <td>16432.750000</td>\n",
       "      <td>16371.00000</td>\n",
       "      <td>2.623248e+05</td>\n",
       "      <td>2.613102e+05</td>\n",
       "    </tr>\n",
       "    <tr>\n",
       "      <th>50%</th>\n",
       "      <td>32796.000000</td>\n",
       "      <td>32792.00000</td>\n",
       "      <td>5.236865e+05</td>\n",
       "      <td>5.240365e+05</td>\n",
       "    </tr>\n",
       "    <tr>\n",
       "      <th>75%</th>\n",
       "      <td>49147.000000</td>\n",
       "      <td>49148.00000</td>\n",
       "      <td>7.862242e+05</td>\n",
       "      <td>7.865182e+05</td>\n",
       "    </tr>\n",
       "    <tr>\n",
       "      <th>max</th>\n",
       "      <td>65535.000000</td>\n",
       "      <td>65535.00000</td>\n",
       "      <td>1.048575e+06</td>\n",
       "      <td>1.048575e+06</td>\n",
       "    </tr>\n",
       "  </tbody>\n",
       "</table>\n",
       "</div>"
      ]
     },
     "execution_count": 5,
     "metadata": {},
     "output_type": "execute_result"
    }
   ],
   "execution_count": 5
  },
  {
   "metadata": {
    "ExecuteTime": {
     "end_time": "2024-09-13T15:57:33.983225538Z",
     "start_time": "2024-09-10T04:30:26.127106Z"
    }
   },
   "cell_type": "code",
   "source": [
    "sns.histplot(data=df,y=\"attack_type\")\n",
    "plt.show()"
   ],
   "id": "e987a9b0444c1c72",
   "outputs": [
    {
     "data": {
      "text/plain": [
       "<Figure size 640x480 with 1 Axes>"
      ],
      "image/png": "[encoded data removed]"
     },
     "metadata": {},
     "output_type": "display_data"
    }
   ],
   "execution_count": 17
  },
  {
   "metadata": {
    "ExecuteTime": {
     "end_time": "2024-09-13T15:57:33.985609150Z",
     "start_time": "2024-09-10T04:31:15.024467Z"
    }
   },
   "cell_type": "code",
   "source": [
    "sns.histplot(data=df,y=\"packet_size\")\n",
    "plt.show()"
   ],
   "id": "2ae0342d1313a4ca",
   "outputs": [
    {
     "data": {
      "text/plain": [
       "<Figure size 640x480 with 1 Axes>"
      ],
      "image/png": "[encoded data removed]"
     },
     "metadata": {},
     "output_type": "display_data"
    }
   ],
   "execution_count": 18
  },
  {
   "metadata": {
    "ExecuteTime": {
     "end_time": "2024-09-13T15:57:33.986148515Z",
     "start_time": "2024-09-10T04:24:37.526792Z"
    }
   },
   "cell_type": "code",
   "source": [
    "df2 = df2.dropna()\n",
    "label = LabelEncoder()\n",
    "for x in df:\n",
    "    if df[x].dtype == 'object':\n",
    "        df2[x] = label.fit_transform(df2[x])"
   ],
   "id": "7a871a8646487d91",
   "outputs": [],
   "execution_count": 7
  },
  {
   "metadata": {
    "ExecuteTime": {
     "end_time": "2024-09-13T15:57:33.986479714Z",
     "start_time": "2024-09-10T04:24:46.310469Z"
    }
   },
   "cell_type": "code",
   "source": [
    "print(df2.size)\n",
    "df2.drop_duplicates(inplace=True)\n",
    "print(df2.size)"
   ],
   "id": "d594ba566052b3df",
   "outputs": [
    {
     "name": "stdout",
     "output_type": "stream",
     "text": [
      "20000000\n",
      "20000000\n"
     ]
    }
   ],
   "execution_count": 8
  },
  {
   "metadata": {
    "ExecuteTime": {
     "end_time": "2024-09-13T15:57:33.986766151Z",
     "start_time": "2024-09-10T04:24:46.841969Z"
    }
   },
   "cell_type": "code",
   "source": [
    "X = df2.drop(columns=['attack_type',\"src_ipv4\",\"src_ipv6\",\"src_mac\",\"src_port\",\"dest_port\"])\n",
    "y = df2[\"attack_type\"]"
   ],
   "id": "38b94c0c9340d596",
   "outputs": [],
   "execution_count": 9
  },
  {
   "metadata": {
    "ExecuteTime": {
     "end_time": "2024-09-13T15:57:33.987028014Z",
     "start_time": "2024-09-10T04:24:46.881080Z"
    }
   },
   "cell_type": "code",
   "source": [
    "plt.subplot(1,2,1)\n",
    "plt.hist(df['duration'])\n",
    "plt.subplot(1,2,2)\n",
    "plt.hist(df[\"attack_type\"])\n",
    "plt.show()"
   ],
   "id": "bb4c7ce0cc24009f",
   "outputs": [
    {
     "data": {
      "text/plain": [
       "<Figure size 640x480 with 2 Axes>"
      ],
      "image/png": "[encoded data removed]"
     },
     "metadata": {},
     "output_type": "display_data"
    }
   ],
   "execution_count": 10
  },
  {
   "metadata": {
    "ExecuteTime": {
     "end_time": "2024-09-13T15:57:33.987405384Z",
     "start_time": "2024-09-10T04:24:47.187845Z"
    }
   },
   "cell_type": "code",
   "source": "",
   "id": "9379d6ba0e016762",
   "outputs": [],
   "execution_count": null
  },
  {
   "metadata": {
    "ExecuteTime": {
     "end_time": "2024-09-13T15:57:33.987684468Z",
     "start_time": "2024-09-10T04:24:47.206967Z"
    }
   },
   "cell_type": "code",
   "source": "",
   "id": "4c103730ee28fedb",
   "outputs": [],
   "execution_count": null
  }
 ],
 "metadata": {
  "kernelspec": {
   "display_name": "Python 3",
   "language": "python",
   "name": "python3"
  },
  "language_info": {
   "codemirror_mode": {
    "name": "ipython",
    "version": 2
   },
   "file_extension": ".py",
   "mimetype": "text/x-python",
   "name": "python",
   "nbconvert_exporter": "python",
   "pygments_lexer": "ipython2",
   "version": "2.7.6"
  }
 },
 "nbformat": 4,
 "nbformat_minor": 5
}
