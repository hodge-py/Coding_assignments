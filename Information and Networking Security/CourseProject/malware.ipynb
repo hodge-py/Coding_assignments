{
 "cells": [
  {
   "cell_type": "code",
   "id": "initial_id",
   "metadata": {
    "collapsed": true,
    "ExecuteTime": {
     "end_time": "2024-09-04T04:40:13.740042Z",
     "start_time": "2024-09-04T04:40:13.736719Z"
    }
   },
   "source": [
    "import numpy as np\n",
    "import pandas as pd\n",
    "import matplotlib.pyplot as plt\n",
    "from sklearn import preprocessing\n",
    "from sklearn.preprocessing import LabelEncoder\n",
    "from scipy import stats\n",
    "from IPython.display import HTML\n",
    "pd.set_option('display.max_columns', None)"
   ],
   "outputs": [],
   "execution_count": 2
  },
  {
   "metadata": {
    "ExecuteTime": {
     "end_time": "2024-09-04T03:56:10.826283Z",
     "start_time": "2024-09-04T03:56:09.038160Z"
    }
   },
   "cell_type": "code",
   "source": [
    "df = pd.read_csv('attacks.csv')\n",
    "df2 = df\n",
    "df.head()"
   ],
   "id": "f200bb863cddceeb",
   "outputs": [
    {
     "data": {
      "text/plain": [
       "          src_ipv4                                 src_ipv6  \\\n",
       "0   144.46.175.132  cb5c:4734:5940:541f:9922:18b9:bacc:d288   \n",
       "1  218.156.185.187  94bb:5302:ce9a:ad29:d730:f895:c423:a935   \n",
       "2   147.225.24.241   5886:8686:ad33:c5f2:d0a9:458:25e6:8f7b   \n",
       "3    205.44.151.19  6d8a:cca0:b22a:13ea:5ace:162d:190d:f184   \n",
       "4   150.158.113.97  f044:b945:4a93:1aee:67ae:2628:a82a:de17   \n",
       "\n",
       "             src_mac  src_port  dest_port  duration         os  packet_size  \\\n",
       "0  81:48:99:10:80:c4     42199      41731    973309    windows        27977   \n",
       "1  4c:0c:56:13:35:dd     22773      21570    879523      macos       130825   \n",
       "2  56:8c:58:ae:54:3f     29656      16287    122040    windows       555253   \n",
       "3  fa:4d:a4:fa:e6:1f     21294      42000     57818  chrome os       930746   \n",
       "4  d0:5f:1c:6f:ba:46     16425       6092     14124    windows       882800   \n",
       "\n",
       "  tcp udp http https ssh smtp pop3 ftp icmp syn ack fin psh urg ece cwr  \\\n",
       "0   f   t    f     t   f    t    f   t    f   t   f   f   t   f   f   f   \n",
       "1   f   t    t     t   t    f    t   f    f   f   t   f   t   f   t   f   \n",
       "2   t   t    f     t   t    t    f   t    t   f   t   f   f   f   f   t   \n",
       "3   t   f    f     f   t    t    t   f    t   t   t   t   t   f   f   t   \n",
       "4   t   t    t     f   t    f    t   f    f   t   f   t   f   f   t   f   \n",
       "\n",
       "  attack_type  \n",
       "0         DoS  \n",
       "1    Phishing  \n",
       "2        DDoS  \n",
       "3    Phishing  \n",
       "4         DoS  "
      ],
      "text/html": [
       "<div>\n",
       "<style scoped>\n",
       "    .dataframe tbody tr th:only-of-type {\n",
       "        vertical-align: middle;\n",
       "    }\n",
       "\n",
       "    .dataframe tbody tr th {\n",
       "        vertical-align: top;\n",
       "    }\n",
       "\n",
       "    .dataframe thead th {\n",
       "        text-align: right;\n",
       "    }\n",
       "</style>\n",
       "<table border=\"1\" class=\"dataframe\">\n",
       "  <thead>\n",
       "    <tr style=\"text-align: right;\">\n",
       "      <th></th>\n",
       "      <th>src_ipv4</th>\n",
       "      <th>src_ipv6</th>\n",
       "      <th>src_mac</th>\n",
       "      <th>src_port</th>\n",
       "      <th>dest_port</th>\n",
       "      <th>duration</th>\n",
       "      <th>os</th>\n",
       "      <th>packet_size</th>\n",
       "      <th>tcp</th>\n",
       "      <th>udp</th>\n",
       "      <th>http</th>\n",
       "      <th>https</th>\n",
       "      <th>ssh</th>\n",
       "      <th>smtp</th>\n",
       "      <th>pop3</th>\n",
       "      <th>ftp</th>\n",
       "      <th>icmp</th>\n",
       "      <th>syn</th>\n",
       "      <th>ack</th>\n",
       "      <th>fin</th>\n",
       "      <th>psh</th>\n",
       "      <th>urg</th>\n",
       "      <th>ece</th>\n",
       "      <th>cwr</th>\n",
       "      <th>attack_type</th>\n",
       "    </tr>\n",
       "  </thead>\n",
       "  <tbody>\n",
       "    <tr>\n",
       "      <th>0</th>\n",
       "      <td>144.46.175.132</td>\n",
       "      <td>cb5c:4734:5940:541f:9922:18b9:bacc:d288</td>\n",
       "      <td>81:48:99:10:80:c4</td>\n",
       "      <td>42199</td>\n",
       "      <td>41731</td>\n",
       "      <td>973309</td>\n",
       "      <td>windows</td>\n",
       "      <td>27977</td>\n",
       "      <td>f</td>\n",
       "      <td>t</td>\n",
       "      <td>f</td>\n",
       "      <td>t</td>\n",
       "      <td>f</td>\n",
       "      <td>t</td>\n",
       "      <td>f</td>\n",
       "      <td>t</td>\n",
       "      <td>f</td>\n",
       "      <td>t</td>\n",
       "      <td>f</td>\n",
       "      <td>f</td>\n",
       "      <td>t</td>\n",
       "      <td>f</td>\n",
       "      <td>f</td>\n",
       "      <td>f</td>\n",
       "      <td>DoS</td>\n",
       "    </tr>\n",
       "    <tr>\n",
       "      <th>1</th>\n",
       "      <td>218.156.185.187</td>\n",
       "      <td>94bb:5302:ce9a:ad29:d730:f895:c423:a935</td>\n",
       "      <td>4c:0c:56:13:35:dd</td>\n",
       "      <td>22773</td>\n",
       "      <td>21570</td>\n",
       "      <td>879523</td>\n",
       "      <td>macos</td>\n",
       "      <td>130825</td>\n",
       "      <td>f</td>\n",
       "      <td>t</td>\n",
       "      <td>t</td>\n",
       "      <td>t</td>\n",
       "      <td>t</td>\n",
       "      <td>f</td>\n",
       "      <td>t</td>\n",
       "      <td>f</td>\n",
       "      <td>f</td>\n",
       "      <td>f</td>\n",
       "      <td>t</td>\n",
       "      <td>f</td>\n",
       "      <td>t</td>\n",
       "      <td>f</td>\n",
       "      <td>t</td>\n",
       "      <td>f</td>\n",
       "      <td>Phishing</td>\n",
       "    </tr>\n",
       "    <tr>\n",
       "      <th>2</th>\n",
       "      <td>147.225.24.241</td>\n",
       "      <td>5886:8686:ad33:c5f2:d0a9:458:25e6:8f7b</td>\n",
       "      <td>56:8c:58:ae:54:3f</td>\n",
       "      <td>29656</td>\n",
       "      <td>16287</td>\n",
       "      <td>122040</td>\n",
       "      <td>windows</td>\n",
       "      <td>555253</td>\n",
       "      <td>t</td>\n",
       "      <td>t</td>\n",
       "      <td>f</td>\n",
       "      <td>t</td>\n",
       "      <td>t</td>\n",
       "      <td>t</td>\n",
       "      <td>f</td>\n",
       "      <td>t</td>\n",
       "      <td>t</td>\n",
       "      <td>f</td>\n",
       "      <td>t</td>\n",
       "      <td>f</td>\n",
       "      <td>f</td>\n",
       "      <td>f</td>\n",
       "      <td>f</td>\n",
       "      <td>t</td>\n",
       "      <td>DDoS</td>\n",
       "    </tr>\n",
       "    <tr>\n",
       "      <th>3</th>\n",
       "      <td>205.44.151.19</td>\n",
       "      <td>6d8a:cca0:b22a:13ea:5ace:162d:190d:f184</td>\n",
       "      <td>fa:4d:a4:fa:e6:1f</td>\n",
       "      <td>21294</td>\n",
       "      <td>42000</td>\n",
       "      <td>57818</td>\n",
       "      <td>chrome os</td>\n",
       "      <td>930746</td>\n",
       "      <td>t</td>\n",
       "      <td>f</td>\n",
       "      <td>f</td>\n",
       "      <td>f</td>\n",
       "      <td>t</td>\n",
       "      <td>t</td>\n",
       "      <td>t</td>\n",
       "      <td>f</td>\n",
       "      <td>t</td>\n",
       "      <td>t</td>\n",
       "      <td>t</td>\n",
       "      <td>t</td>\n",
       "      <td>t</td>\n",
       "      <td>f</td>\n",
       "      <td>f</td>\n",
       "      <td>t</td>\n",
       "      <td>Phishing</td>\n",
       "    </tr>\n",
       "    <tr>\n",
       "      <th>4</th>\n",
       "      <td>150.158.113.97</td>\n",
       "      <td>f044:b945:4a93:1aee:67ae:2628:a82a:de17</td>\n",
       "      <td>d0:5f:1c:6f:ba:46</td>\n",
       "      <td>16425</td>\n",
       "      <td>6092</td>\n",
       "      <td>14124</td>\n",
       "      <td>windows</td>\n",
       "      <td>882800</td>\n",
       "      <td>t</td>\n",
       "      <td>t</td>\n",
       "      <td>t</td>\n",
       "      <td>f</td>\n",
       "      <td>t</td>\n",
       "      <td>f</td>\n",
       "      <td>t</td>\n",
       "      <td>f</td>\n",
       "      <td>f</td>\n",
       "      <td>t</td>\n",
       "      <td>f</td>\n",
       "      <td>t</td>\n",
       "      <td>f</td>\n",
       "      <td>f</td>\n",
       "      <td>t</td>\n",
       "      <td>f</td>\n",
       "      <td>DoS</td>\n",
       "    </tr>\n",
       "  </tbody>\n",
       "</table>\n",
       "</div>"
      ]
     },
     "execution_count": 10,
     "metadata": {},
     "output_type": "execute_result"
    }
   ],
   "execution_count": 10
  },
  {
   "metadata": {
    "ExecuteTime": {
     "end_time": "2024-09-04T03:56:11.173026Z",
     "start_time": "2024-09-04T03:56:10.827290Z"
    }
   },
   "cell_type": "code",
   "source": "df.info()",
   "id": "60e892700e112998",
   "outputs": [
    {
     "name": "stdout",
     "output_type": "stream",
     "text": [
      "<class 'pandas.core.frame.DataFrame'>\n",
      "RangeIndex: 800000 entries, 0 to 799999\n",
      "Data columns (total 25 columns):\n",
      " #   Column       Non-Null Count   Dtype \n",
      "---  ------       --------------   ----- \n",
      " 0   src_ipv4     800000 non-null  object\n",
      " 1   src_ipv6     800000 non-null  object\n",
      " 2   src_mac      800000 non-null  object\n",
      " 3   src_port     800000 non-null  int64 \n",
      " 4   dest_port    800000 non-null  int64 \n",
      " 5   duration     800000 non-null  int64 \n",
      " 6   os           800000 non-null  object\n",
      " 7   packet_size  800000 non-null  int64 \n",
      " 8   tcp          800000 non-null  object\n",
      " 9   udp          800000 non-null  object\n",
      " 10  http         800000 non-null  object\n",
      " 11  https        800000 non-null  object\n",
      " 12  ssh          800000 non-null  object\n",
      " 13  smtp         800000 non-null  object\n",
      " 14  pop3         800000 non-null  object\n",
      " 15  ftp          800000 non-null  object\n",
      " 16  icmp         800000 non-null  object\n",
      " 17  syn          800000 non-null  object\n",
      " 18  ack          800000 non-null  object\n",
      " 19  fin          800000 non-null  object\n",
      " 20  psh          800000 non-null  object\n",
      " 21  urg          800000 non-null  object\n",
      " 22  ece          800000 non-null  object\n",
      " 23  cwr          800000 non-null  object\n",
      " 24  attack_type  800000 non-null  object\n",
      "dtypes: int64(4), object(21)\n",
      "memory usage: 152.6+ MB\n"
     ]
    }
   ],
   "execution_count": 11
  },
  {
   "metadata": {
    "ExecuteTime": {
     "end_time": "2024-09-04T03:56:11.290180Z",
     "start_time": "2024-09-04T03:56:11.199550Z"
    }
   },
   "cell_type": "code",
   "source": "df.describe()",
   "id": "d84a2a467e619b4e",
   "outputs": [
    {
     "data": {
      "text/plain": [
       "            src_port     dest_port      duration   packet_size\n",
       "count  800000.000000  800000.00000  8.000000e+05  8.000000e+05\n",
       "mean    32780.646821   32775.47324  5.241233e+05  5.241068e+05\n",
       "std     18915.455978   18923.18738  3.026008e+05  3.030320e+05\n",
       "min         0.000000       0.00000  3.000000e+00  3.000000e+00\n",
       "25%     16432.750000   16371.00000  2.623248e+05  2.613102e+05\n",
       "50%     32796.000000   32792.00000  5.236865e+05  5.240365e+05\n",
       "75%     49147.000000   49148.00000  7.862242e+05  7.865182e+05\n",
       "max     65535.000000   65535.00000  1.048575e+06  1.048575e+06"
      ],
      "text/html": [
       "<div>\n",
       "<style scoped>\n",
       "    .dataframe tbody tr th:only-of-type {\n",
       "        vertical-align: middle;\n",
       "    }\n",
       "\n",
       "    .dataframe tbody tr th {\n",
       "        vertical-align: top;\n",
       "    }\n",
       "\n",
       "    .dataframe thead th {\n",
       "        text-align: right;\n",
       "    }\n",
       "</style>\n",
       "<table border=\"1\" class=\"dataframe\">\n",
       "  <thead>\n",
       "    <tr style=\"text-align: right;\">\n",
       "      <th></th>\n",
       "      <th>src_port</th>\n",
       "      <th>dest_port</th>\n",
       "      <th>duration</th>\n",
       "      <th>packet_size</th>\n",
       "    </tr>\n",
       "  </thead>\n",
       "  <tbody>\n",
       "    <tr>\n",
       "      <th>count</th>\n",
       "      <td>800000.000000</td>\n",
       "      <td>800000.00000</td>\n",
       "      <td>8.000000e+05</td>\n",
       "      <td>8.000000e+05</td>\n",
       "    </tr>\n",
       "    <tr>\n",
       "      <th>mean</th>\n",
       "      <td>32780.646821</td>\n",
       "      <td>32775.47324</td>\n",
       "      <td>5.241233e+05</td>\n",
       "      <td>5.241068e+05</td>\n",
       "    </tr>\n",
       "    <tr>\n",
       "      <th>std</th>\n",
       "      <td>18915.455978</td>\n",
       "      <td>18923.18738</td>\n",
       "      <td>3.026008e+05</td>\n",
       "      <td>3.030320e+05</td>\n",
       "    </tr>\n",
       "    <tr>\n",
       "      <th>min</th>\n",
       "      <td>0.000000</td>\n",
       "      <td>0.00000</td>\n",
       "      <td>3.000000e+00</td>\n",
       "      <td>3.000000e+00</td>\n",
       "    </tr>\n",
       "    <tr>\n",
       "      <th>25%</th>\n",
       "      <td>16432.750000</td>\n",
       "      <td>16371.00000</td>\n",
       "      <td>2.623248e+05</td>\n",
       "      <td>2.613102e+05</td>\n",
       "    </tr>\n",
       "    <tr>\n",
       "      <th>50%</th>\n",
       "      <td>32796.000000</td>\n",
       "      <td>32792.00000</td>\n",
       "      <td>5.236865e+05</td>\n",
       "      <td>5.240365e+05</td>\n",
       "    </tr>\n",
       "    <tr>\n",
       "      <th>75%</th>\n",
       "      <td>49147.000000</td>\n",
       "      <td>49148.00000</td>\n",
       "      <td>7.862242e+05</td>\n",
       "      <td>7.865182e+05</td>\n",
       "    </tr>\n",
       "    <tr>\n",
       "      <th>max</th>\n",
       "      <td>65535.000000</td>\n",
       "      <td>65535.00000</td>\n",
       "      <td>1.048575e+06</td>\n",
       "      <td>1.048575e+06</td>\n",
       "    </tr>\n",
       "  </tbody>\n",
       "</table>\n",
       "</div>"
      ]
     },
     "execution_count": 12,
     "metadata": {},
     "output_type": "execute_result"
    }
   ],
   "execution_count": 12
  },
  {
   "metadata": {
    "ExecuteTime": {
     "end_time": "2024-09-04T03:56:19.929649Z",
     "start_time": "2024-09-04T03:56:11.291185Z"
    }
   },
   "cell_type": "code",
   "source": [
    "df2 = df2.dropna()\n",
    "label = LabelEncoder()\n",
    "for x in df:\n",
    "    if df[x].dtype == 'object':\n",
    "        df2[x] = label.fit_transform(df2[x])"
   ],
   "id": "7a871a8646487d91",
   "outputs": [],
   "execution_count": 13
  },
  {
   "metadata": {
    "ExecuteTime": {
     "end_time": "2024-09-04T04:01:42.032823Z",
     "start_time": "2024-09-04T04:01:41.559760Z"
    }
   },
   "cell_type": "code",
   "source": [
    "print(df2.size)\n",
    "df2.drop_duplicates(inplace=True)\n",
    "print(df2.size)"
   ],
   "id": "d594ba566052b3df",
   "outputs": [
    {
     "name": "stdout",
     "output_type": "stream",
     "text": [
      "20000000\n",
      "20000000\n"
     ]
    }
   ],
   "execution_count": 24
  },
  {
   "metadata": {
    "ExecuteTime": {
     "end_time": "2024-09-04T03:56:20.536272Z",
     "start_time": "2024-09-04T03:56:20.512195Z"
    }
   },
   "cell_type": "code",
   "source": [
    "X = df2.drop(columns=['attack_type',\"src_ipv4\",\"src_ipv6\",\"src_mac\",\"src_port\",\"dest_port\"])\n",
    "y = df2[\"attack_type\"]"
   ],
   "id": "38b94c0c9340d596",
   "outputs": [],
   "execution_count": 15
  },
  {
   "metadata": {
    "ExecuteTime": {
     "end_time": "2024-09-04T04:28:34.481606Z",
     "start_time": "2024-09-04T04:28:34.217085Z"
    }
   },
   "cell_type": "code",
   "source": [
    "plt.subplot(1,2,1)\n",
    "plt.hist(df['duration'])\n",
    "plt.subplot(1,2,2)\n",
    "plt.hist(df[\"attack_type\"])\n",
    "plt.show()"
   ],
   "id": "bb4c7ce0cc24009f",
   "outputs": [
    {
     "data": {
      "text/plain": [
       "<Figure size 640x480 with 2 Axes>"
      ],
      "image/png": "[encoded data removed]"
     },
     "metadata": {},
     "output_type": "display_data"
    }
   ],
   "execution_count": 25
  },
  {
   "metadata": {
    "ExecuteTime": {
     "end_time": "2024-09-04T04:43:25.223574Z",
     "start_time": "2024-09-04T04:43:25.221374Z"
    }
   },
   "cell_type": "code",
   "source": "",
   "id": "9379d6ba0e016762",
   "outputs": [],
   "execution_count": null
  },
  {
   "metadata": {
    "ExecuteTime": {
     "end_time": "2024-09-04T03:56:20.838318Z",
     "start_time": "2024-09-04T03:56:20.835373Z"
    }
   },
   "cell_type": "code",
   "source": "",
   "id": "4c103730ee28fedb",
   "outputs": [],
   "execution_count": null
  }
 ],
 "metadata": {
  "kernelspec": {
   "display_name": "Python 3",
   "language": "python",
   "name": "python3"
  },
  "language_info": {
   "codemirror_mode": {
    "name": "ipython",
    "version": 2
   },
   "file_extension": ".py",
   "mimetype": "text/x-python",
   "name": "python",
   "nbconvert_exporter": "python",
   "pygments_lexer": "ipython2",
   "version": "2.7.6"
  }
 },
 "nbformat": 4,
 "nbformat_minor": 5
}
