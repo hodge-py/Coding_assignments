{
 "cells": [
  {
   "cell_type": "code",
   "id": "initial_id",
   "metadata": {
    "collapsed": true,
    "ExecuteTime": {
     "end_time": "2024-10-04T21:31:37.545934Z",
     "start_time": "2024-10-04T21:31:36.378895Z"
    }
   },
   "source": [
    "from pyspark.sql import SparkSession\n",
    "from datetime import datetime, date\n",
    "import pandas as pd\n",
    "from pyspark.sql import Row\n",
    "import os, sys"
   ],
   "outputs": [],
   "execution_count": 1
  },
  {
   "metadata": {
    "ExecuteTime": {
     "end_time": "2024-10-04T21:32:01.210258Z",
     "start_time": "2024-10-04T21:31:37.561463Z"
    }
   },
   "cell_type": "code",
   "source": [
    "os.environ['PYSPARK_PYTHON'] = sys.executable\n",
    "os.environ['PYSPARK_DRIVER_PYTHON'] = sys.executable\n",
    "print(sys.executable)\n",
    "spark = SparkSession.builder.getOrCreate()\n",
    "\n",
    "df = spark.createDataFrame([\n",
    "    Row(a=1, b=2., c='string1', d=date(2000, 1, 1), e=datetime(2000, 1, 1, 12, 0)),\n",
    "    Row(a=2, b=3., c='string2', d=date(2000, 2, 1), e=datetime(2000, 1, 2, 12, 0)),\n",
    "    Row(a=4, b=5., c='string3', d=date(2000, 3, 1), e=datetime(2000, 1, 3, 12, 0))\n",
    "])\n",
    "\n",
    "df.collect()\n"
   ],
   "id": "bbb69a299ba823f7",
   "outputs": [
    {
     "name": "stdout",
     "output_type": "stream",
     "text": [
      "C:\\Users\\khodg\\OneDrive\\Documents\\Coding_assignments\\BigData\\venv\\Scripts\\python.exe\n"
     ]
    },
    {
     "data": {
      "text/plain": [
       "[Row(a=1, b=2.0, c='string1', d=datetime.date(2000, 1, 1), e=datetime.datetime(2000, 1, 1, 12, 0)),\n",
       " Row(a=2, b=3.0, c='string2', d=datetime.date(2000, 2, 1), e=datetime.datetime(2000, 1, 2, 12, 0)),\n",
       " Row(a=4, b=5.0, c='string3', d=datetime.date(2000, 3, 1), e=datetime.datetime(2000, 1, 3, 12, 0))]"
      ]
     },
     "execution_count": 2,
     "metadata": {},
     "output_type": "execute_result"
    }
   ],
   "execution_count": 2
  },
  {
   "metadata": {
    "ExecuteTime": {
     "end_time": "2024-10-04T21:32:45.586960Z",
     "start_time": "2024-10-04T21:32:37.337764Z"
    }
   },
   "cell_type": "code",
   "source": [
    "spark_app = SparkSession.builder.appName('Ashraf_app').getOrCreate()\n",
    "#Use RDD to find the smart students\n",
    "student_rdd = spark.sparkContext.parallelize([(\"a\", 89),(\"b\",76),(\"c\",78),(\"d\",89),(\"e\",90),(\"f\",100),(\"g\",34),(\"h\",56),(\"i\",54),(\"j\",22),(\"m\",45)])\n",
    "print(student_rdd)\n",
    "smart_st_rdd = student_rdd.filter(lambda x: x[1]>80)\n",
    "smart_st_list = smart_st_rdd.collect()\n",
    "print(smart_st_list)"
   ],
   "id": "550d39f075fbc1a6",
   "outputs": [
    {
     "name": "stdout",
     "output_type": "stream",
     "text": [
      "ParallelCollectionRDD[19] at readRDDFromFile at PythonRDD.scala:289\n",
      "[('a', 89), ('d', 89), ('e', 90), ('f', 100)]\n"
     ]
    }
   ],
   "execution_count": 5
  },
  {
   "metadata": {
    "ExecuteTime": {
     "end_time": "2024-10-04T21:32:23.932648Z",
     "start_time": "2024-10-04T21:32:10.442456Z"
    }
   },
   "cell_type": "code",
   "source": [
    "student_rdd = spark.sparkContext.parallelize([(\"a\",89),(\"b\",76),(\"c\",78),(\"d\",89),(\"e\",90),(\"f\",100),(\"g\",34),(\"h\",56),(\"i\",54),(\"j\",22),(\"m\",45)])\n",
    "#Create DataFrame\n",
    "student_df = spark.createDataFrame(student_rdd,schema = [\"Name\",\"Marks\"])\n",
    "#createing a table from student_df, so that it can be SQL queried\n",
    "student_df.createOrReplaceTempView(\"smart_st_table\") # then you can run queries on stTable\n",
    "#SQL queries\n",
    "smart_student_df = spark_app.sql(\" select * from smart_st_table where Marks>80 order by Marks desc\")\n",
    "#show results\n",
    "smart_student_df.show()"
   ],
   "id": "ead29177b1c3ea8d",
   "outputs": [
    {
     "name": "stdout",
     "output_type": "stream",
     "text": [
      "+----+-----+\n",
      "|Name|Marks|\n",
      "+----+-----+\n",
      "|   f|  100|\n",
      "|   e|   90|\n",
      "|   a|   89|\n",
      "|   d|   89|\n",
      "+----+-----+\n",
      "\n"
     ]
    }
   ],
   "execution_count": 4
  },
  {
   "metadata": {
    "ExecuteTime": {
     "end_time": "2024-10-04T21:42:58.603314Z",
     "start_time": "2024-10-04T21:42:50.661457Z"
    }
   },
   "cell_type": "code",
   "source": [
    "rdd1 = spark.sparkContext.parallelize([\"b\",\"a\",\"c\"])\n",
    "rdd1.flatMap(lambda x: (x,10)).collect()"
   ],
   "id": "3a9d53f3b548f969",
   "outputs": [
    {
     "data": {
      "text/plain": [
       "['b', 10, 'a', 10, 'c', 10]"
      ]
     },
     "execution_count": 7,
     "metadata": {},
     "output_type": "execute_result"
    }
   ],
   "execution_count": 7
  },
  {
   "metadata": {
    "ExecuteTime": {
     "end_time": "2024-10-04T21:44:50.025375Z",
     "start_time": "2024-10-04T21:44:34.286742Z"
    }
   },
   "cell_type": "code",
   "source": [
    "from operator import add\n",
    "rdd2 = spark.sparkContext.parallelize([(\"a\",2),(\"b\",4),(\"a\",15)])\n",
    "rdd2.reduceByKey(add).collect()"
   ],
   "id": "12abfa7809463b43",
   "outputs": [
    {
     "data": {
      "text/plain": [
       "[('b', 4), ('a', 17)]"
      ]
     },
     "execution_count": 10,
     "metadata": {},
     "output_type": "execute_result"
    }
   ],
   "execution_count": 10
  },
  {
   "metadata": {
    "ExecuteTime": {
     "end_time": "2024-10-04T21:47:30.630188Z",
     "start_time": "2024-10-04T21:46:42.530557Z"
    }
   },
   "cell_type": "code",
   "source": [
    "x = spark.sparkContext.parallelize([(\"a\",2),(\"b\",4)])\n",
    "y = spark.sparkContext.parallelize([(\"a\",2),(\"a\",4)])\n",
    "x.join(y).collect()"
   ],
   "id": "a3e48c5ab286129",
   "outputs": [
    {
     "data": {
      "text/plain": [
       "[('a', (2, 2)), ('a', (2, 4))]"
      ]
     },
     "execution_count": 11,
     "metadata": {},
     "output_type": "execute_result"
    }
   ],
   "execution_count": 11
  },
  {
   "metadata": {
    "ExecuteTime": {
     "end_time": "2024-10-04T21:49:07.243Z",
     "start_time": "2024-10-04T21:48:59.310060Z"
    }
   },
   "cell_type": "code",
   "source": "spark.sparkContext.parallelize([1,2,4,32,3,4,5,6]).reduce(add)",
   "id": "97d94f80188cf549",
   "outputs": [
    {
     "data": {
      "text/plain": [
       "57"
      ]
     },
     "execution_count": 13,
     "metadata": {},
     "output_type": "execute_result"
    }
   ],
   "execution_count": 13
  },
  {
   "metadata": {
    "ExecuteTime": {
     "end_time": "2024-10-04T21:58:17.173640Z",
     "start_time": "2024-10-04T21:58:16.984698Z"
    }
   },
   "cell_type": "code",
   "source": [
    "txt = spark.read.json(\"test.json\")\n",
    "txt.createOrReplaceTempView(\"txt_table\")\n",
    "show = spark.sql(\"select * from txt_table\")\n",
    "show.show()"
   ],
   "id": "60d0348d8d0060a4",
   "outputs": [
    {
     "name": "stdout",
     "output_type": "stream",
     "text": [
      "+------+------+\n",
      "|  name| today|\n",
      "+------+------+\n",
      "|Karson|friday|\n",
      "+------+------+\n",
      "\n"
     ]
    }
   ],
   "execution_count": 23
  },
  {
   "metadata": {
    "ExecuteTime": {
     "end_time": "2024-10-04T22:37:14.945812Z",
     "start_time": "2024-10-04T22:37:14.829298Z"
    }
   },
   "cell_type": "code",
   "source": [
    "newSpark = SparkSession.builder.appName('newSQL').getOrCreate()\n",
    "df2 = newSpark.read.option(\"delimiter\", \",\").option(\"header\",True).csv(\"social_net_with_header.csv\")"
   ],
   "id": "3ad2886321653f62",
   "outputs": [],
   "execution_count": 27
  },
  {
   "metadata": {
    "ExecuteTime": {
     "end_time": "2024-10-04T22:38:16.928251Z",
     "start_time": "2024-10-04T22:38:16.840432Z"
    }
   },
   "cell_type": "code",
   "source": "df2.show()",
   "id": "c01e422209c4bf84",
   "outputs": [
    {
     "name": "stdout",
     "output_type": "stream",
     "text": [
      "+------+--------+---+-------+\n",
      "|userID|    name|age|friends|\n",
      "+------+--------+---+-------+\n",
      "|     0|    Will| 33|    385|\n",
      "|     1|Jean-Luc| 26|      2|\n",
      "|     2|    Hugh| 55|    221|\n",
      "|     3|  Deanna| 40|    465|\n",
      "|     4|   Quark| 68|     21|\n",
      "|     5|  Weyoun| 59|    318|\n",
      "|     6|  Gowron| 37|    220|\n",
      "|     7|    Will| 54|    307|\n",
      "|     8|  Jadzia| 38|    380|\n",
      "|     9|    Hugh| 27|    181|\n",
      "|    10|     Odo| 53|    191|\n",
      "|    11|     Ben| 57|    372|\n",
      "|    12|   Keiko| 54|    253|\n",
      "|    13|Jean-Luc| 56|    444|\n",
      "|    14|    Hugh| 43|     49|\n",
      "|    15|     Rom| 36|     49|\n",
      "|    16|  Weyoun| 22|    323|\n",
      "|    17|     Odo| 35|     13|\n",
      "|    18|Jean-Luc| 45|    455|\n",
      "|    19|  Geordi| 60|    246|\n",
      "+------+--------+---+-------+\n",
      "only showing top 20 rows\n",
      "\n"
     ]
    }
   ],
   "execution_count": 31
  },
  {
   "metadata": {
    "ExecuteTime": {
     "end_time": "2024-10-05T00:07:58.851314Z",
     "start_time": "2024-10-05T00:07:58.840246Z"
    }
   },
   "cell_type": "code",
   "source": "df2.createOrReplaceTempView(\"newView\")",
   "id": "5f49d4c7a09b63da",
   "outputs": [],
   "execution_count": 32
  },
  {
   "metadata": {
    "ExecuteTime": {
     "end_time": "2024-10-05T00:08:14.022909Z",
     "start_time": "2024-10-05T00:08:13.910295Z"
    }
   },
   "cell_type": "code",
   "source": [
    "hey = spark_app.sql(\"select * from newView\")\n",
    "hey.show()"
   ],
   "id": "c86241b887b6e475",
   "outputs": [
    {
     "name": "stdout",
     "output_type": "stream",
     "text": [
      "+------+--------+---+-------+\n",
      "|userID|    name|age|friends|\n",
      "+------+--------+---+-------+\n",
      "|     0|    Will| 33|    385|\n",
      "|     1|Jean-Luc| 26|      2|\n",
      "|     2|    Hugh| 55|    221|\n",
      "|     3|  Deanna| 40|    465|\n",
      "|     4|   Quark| 68|     21|\n",
      "|     5|  Weyoun| 59|    318|\n",
      "|     6|  Gowron| 37|    220|\n",
      "|     7|    Will| 54|    307|\n",
      "|     8|  Jadzia| 38|    380|\n",
      "|     9|    Hugh| 27|    181|\n",
      "|    10|     Odo| 53|    191|\n",
      "|    11|     Ben| 57|    372|\n",
      "|    12|   Keiko| 54|    253|\n",
      "|    13|Jean-Luc| 56|    444|\n",
      "|    14|    Hugh| 43|     49|\n",
      "|    15|     Rom| 36|     49|\n",
      "|    16|  Weyoun| 22|    323|\n",
      "|    17|     Odo| 35|     13|\n",
      "|    18|Jean-Luc| 45|    455|\n",
      "|    19|  Geordi| 60|    246|\n",
      "+------+--------+---+-------+\n",
      "only showing top 20 rows\n",
      "\n"
     ]
    }
   ],
   "execution_count": 33
  },
  {
   "metadata": {},
   "cell_type": "code",
   "outputs": [],
   "execution_count": null,
   "source": "",
   "id": "dfa70d1fa35d9a8f"
  }
 ],
 "metadata": {
  "kernelspec": {
   "display_name": "Python 3",
   "language": "python",
   "name": "python3"
  },
  "language_info": {
   "codemirror_mode": {
    "name": "ipython",
    "version": 2
   },
   "file_extension": ".py",
   "mimetype": "text/x-python",
   "name": "python",
   "nbconvert_exporter": "python",
   "pygments_lexer": "ipython2",
   "version": "2.7.6"
  }
 },
 "nbformat": 4,
 "nbformat_minor": 5
}
