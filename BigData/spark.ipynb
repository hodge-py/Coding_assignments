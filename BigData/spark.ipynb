{
 "cells": [
  {
   "cell_type": "code",
   "id": "initial_id",
   "metadata": {
    "collapsed": true,
    "ExecuteTime": {
     "end_time": "2024-10-02T00:12:05.388695Z",
     "start_time": "2024-10-02T00:12:05.384379Z"
    }
   },
   "source": [
    "from pyspark.sql import SparkSession\n",
    "from datetime import datetime, date\n",
    "import pandas as pd\n",
    "from pyspark.sql import Row\n",
    "import os, sys"
   ],
   "outputs": [],
   "execution_count": 2
  },
  {
   "metadata": {
    "ExecuteTime": {
     "end_time": "2024-10-02T00:12:27.546825Z",
     "start_time": "2024-10-02T00:12:05.433273Z"
    }
   },
   "cell_type": "code",
   "source": [
    "os.environ['PYSPARK_PYTHON'] = sys.executable\n",
    "os.environ['PYSPARK_DRIVER_PYTHON'] = sys.executable\n",
    "print(sys.executable)\n",
    "spark = SparkSession.builder.getOrCreate()\n",
    "\n",
    "df = spark.createDataFrame([\n",
    "    Row(a=1, b=2., c='string1', d=date(2000, 1, 1), e=datetime(2000, 1, 1, 12, 0)),\n",
    "    Row(a=2, b=3., c='string2', d=date(2000, 2, 1), e=datetime(2000, 1, 2, 12, 0)),\n",
    "    Row(a=4, b=5., c='string3', d=date(2000, 3, 1), e=datetime(2000, 1, 3, 12, 0))\n",
    "])\n",
    "\n",
    "df.collect()\n"
   ],
   "id": "bbb69a299ba823f7",
   "outputs": [
    {
     "name": "stdout",
     "output_type": "stream",
     "text": [
      "C:\\Users\\khodg\\OneDrive\\Documents\\Coding_assignments\\BigData\\venv\\Scripts\\python.exe\n"
     ]
    },
    {
     "data": {
      "text/plain": [
       "[Row(a=1, b=2.0, c='string1', d=datetime.date(2000, 1, 1), e=datetime.datetime(2000, 1, 1, 12, 0)),\n",
       " Row(a=2, b=3.0, c='string2', d=datetime.date(2000, 2, 1), e=datetime.datetime(2000, 1, 2, 12, 0)),\n",
       " Row(a=4, b=5.0, c='string3', d=datetime.date(2000, 3, 1), e=datetime.datetime(2000, 1, 3, 12, 0))]"
      ]
     },
     "execution_count": 3,
     "metadata": {},
     "output_type": "execute_result"
    }
   ],
   "execution_count": 3
  },
  {
   "metadata": {
    "ExecuteTime": {
     "end_time": "2024-10-02T00:12:35.465171Z",
     "start_time": "2024-10-02T00:12:27.621484Z"
    }
   },
   "cell_type": "code",
   "source": [
    "spark_app = SparkSession.builder.appName('Ashraf_app').getOrCreate()\n",
    "#Use RDD to find the smart students\n",
    "student_rdd = spark.sparkContext.parallelize([(\"a\", 89),(\"b\",76),(\"c\",78),(\"d\",89),(\"e\",90),(\"f\",100),(\"g\",34),(\"h\",56),(\"i\",54),(\"j\",22),(\"m\",45)])\n",
    "smart_st_rdd = student_rdd.filter(lambda x: x[1]>80)\n",
    "smart_st_list = smart_st_rdd.collect()\n",
    "print(smart_st_list)"
   ],
   "id": "550d39f075fbc1a6",
   "outputs": [
    {
     "name": "stdout",
     "output_type": "stream",
     "text": [
      "[('a', 89), ('d', 89), ('e', 90), ('f', 100)]\n"
     ]
    }
   ],
   "execution_count": 4
  },
  {
   "metadata": {
    "ExecuteTime": {
     "end_time": "2024-10-02T00:12:47.867410Z",
     "start_time": "2024-10-02T00:12:35.559748Z"
    }
   },
   "cell_type": "code",
   "source": [
    "student_rdd = spark.sparkContext.parallelize([(\"a\",89),(\"b\",76),(\"c\",78),(\"d\",89),(\"e\",90),(\"f\",100),(\"g\",34),(\"h\",56),(\"i\",54),(\"j\",22),(\"m\",45)])\n",
    "#Create DataFrame\n",
    "student_df = spark.createDataFrame(student_rdd,schema = [\"Name\",\"Marks\"])\n",
    "#createing a table from student_df, so that it can be SQL queried\n",
    "student_df.createOrReplaceTempView(\"smart_st_table\") # then you can run queries on stTable\n",
    "#SQL queries\n",
    "smart_student_df = spark_app.sql(\" select * from smart_st_table where Marks>80 order by Marks desc\")\n",
    "#show results\n",
    "smart_student_df.show()"
   ],
   "id": "ead29177b1c3ea8d",
   "outputs": [
    {
     "name": "stdout",
     "output_type": "stream",
     "text": [
      "+----+-----+\n",
      "|Name|Marks|\n",
      "+----+-----+\n",
      "|   f|  100|\n",
      "|   e|   90|\n",
      "|   a|   89|\n",
      "|   d|   89|\n",
      "+----+-----+\n",
      "\n"
     ]
    }
   ],
   "execution_count": 5
  },
  {
   "metadata": {
    "ExecuteTime": {
     "end_time": "2024-10-02T00:12:47.906017Z",
     "start_time": "2024-10-02T00:12:47.903413Z"
    }
   },
   "cell_type": "code",
   "source": "",
   "id": "3a9d53f3b548f969",
   "outputs": [],
   "execution_count": null
  }
 ],
 "metadata": {
  "kernelspec": {
   "display_name": "Python 3",
   "language": "python",
   "name": "python3"
  },
  "language_info": {
   "codemirror_mode": {
    "name": "ipython",
    "version": 2
   },
   "file_extension": ".py",
   "mimetype": "text/x-python",
   "name": "python",
   "nbconvert_exporter": "python",
   "pygments_lexer": "ipython2",
   "version": "2.7.6"
  }
 },
 "nbformat": 4,
 "nbformat_minor": 5
}
