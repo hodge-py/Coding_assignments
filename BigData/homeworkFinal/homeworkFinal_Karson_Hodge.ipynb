{
 "cells": [
  {
   "cell_type": "code",
   "id": "initial_id",
   "metadata": {
    "collapsed": true,
    "ExecuteTime": {
     "end_time": "2024-12-07T02:01:31.653914Z",
     "start_time": "2024-12-07T02:01:30.621181Z"
    }
   },
   "source": [
    "from pyspark.sql import SparkSession # import spark sessions\n",
    "from pyspark.sql.types import IntegerType\n",
    "from datetime import datetime, date\n",
    "import pandas as pd\n",
    "from pyspark.sql import Row\n",
    "import os, sys\n",
    "os.environ['PYSPARK_PYTHON'] = sys.executable # needed for spark to work with python, grabs the venv python executable\n",
    "os.environ['PYSPARK_DRIVER_PYTHON'] = sys.executable"
   ],
   "outputs": [],
   "execution_count": 2
  },
  {
   "metadata": {
    "ExecuteTime": {
     "end_time": "2024-12-07T02:01:54.592349Z",
     "start_time": "2024-12-07T02:01:31.665440Z"
    }
   },
   "cell_type": "code",
   "source": [
    "spark = SparkSession.builder.appName(\"homework\").getOrCreate() # creates the app to use later for sql and to read the\n",
    "rdd2 = spark.read.option(\"delimiter\", \",\").option(\"header\", True).csv(\"departuredelays.csv\") # read the csv file with headers enabled\n",
    "rdd2 = rdd2.withColumn(\"delay\", rdd2['delay'].cast(IntegerType()))\n",
    "rdd2.show()"
   ],
   "id": "5b4b5e9edd69660c",
   "outputs": [
    {
     "name": "stdout",
     "output_type": "stream",
     "text": [
      "+--------+-----+--------+------+-----------+\n",
      "|    date|delay|distance|origin|destination|\n",
      "+--------+-----+--------+------+-----------+\n",
      "|01011245|    6|     602|   ABE|        ATL|\n",
      "|01020600|   -8|     369|   ABE|        DTW|\n",
      "|01021245|   -2|     602|   ABE|        ATL|\n",
      "|01020605|   -4|     602|   ABE|        ATL|\n",
      "|01031245|   -4|     602|   ABE|        ATL|\n",
      "|01030605|    0|     602|   ABE|        ATL|\n",
      "|01041243|   10|     602|   ABE|        ATL|\n",
      "|01040605|   28|     602|   ABE|        ATL|\n",
      "|01051245|   88|     602|   ABE|        ATL|\n",
      "|01050605|    9|     602|   ABE|        ATL|\n",
      "|01061215|   -6|     602|   ABE|        ATL|\n",
      "|01061725|   69|     602|   ABE|        ATL|\n",
      "|01061230|    0|     369|   ABE|        DTW|\n",
      "|01060625|   -3|     602|   ABE|        ATL|\n",
      "|01070600|    0|     369|   ABE|        DTW|\n",
      "|01071725|    0|     602|   ABE|        ATL|\n",
      "|01071230|    0|     369|   ABE|        DTW|\n",
      "|01070625|    0|     602|   ABE|        ATL|\n",
      "|01071219|    0|     569|   ABE|        ORD|\n",
      "|01080600|    0|     369|   ABE|        DTW|\n",
      "+--------+-----+--------+------+-----------+\n",
      "only showing top 20 rows\n",
      "\n"
     ]
    }
   ],
   "execution_count": 3
  },
  {
   "metadata": {
    "ExecuteTime": {
     "end_time": "2024-12-07T02:01:55.044611Z",
     "start_time": "2024-12-07T02:01:54.620483Z"
    }
   },
   "cell_type": "code",
   "source": [
    "rddTxt = spark.read.option(\"delimiter\", \"\\t\").option(\"header\", True).csv(\"airport-codes-na.txt\")\n",
    "rddTxt.show()"
   ],
   "id": "6d3c147bf77fdbcd",
   "outputs": [
    {
     "name": "stdout",
     "output_type": "stream",
     "text": [
      "+-----------+-----+-------+----+\n",
      "|       City|State|Country|IATA|\n",
      "+-----------+-----+-------+----+\n",
      "| Abbotsford|   BC| Canada| YXX|\n",
      "|   Aberdeen|   SD|    USA| ABR|\n",
      "|    Abilene|   TX|    USA| ABI|\n",
      "|      Akron|   OH|    USA| CAK|\n",
      "|    Alamosa|   CO|    USA| ALS|\n",
      "|     Albany|   GA|    USA| ABY|\n",
      "|     Albany|   NY|    USA| ALB|\n",
      "|Albuquerque|   NM|    USA| ABQ|\n",
      "| Alexandria|   LA|    USA| AEX|\n",
      "|  Allentown|   PA|    USA| ABE|\n",
      "|   Alliance|   NE|    USA| AIA|\n",
      "|     Alpena|   MI|    USA| APN|\n",
      "|    Altoona|   PA|    USA| AOO|\n",
      "|   Amarillo|   TX|    USA| AMA|\n",
      "|Anahim Lake|   BC| Canada| YAA|\n",
      "|  Anchorage|   AK|    USA| ANC|\n",
      "|   Appleton|   WI|    USA| ATW|\n",
      "|     Arviat|  NWT| Canada| YEK|\n",
      "|  Asheville|   NC|    USA| AVL|\n",
      "|      Aspen|   CO|    USA| ASE|\n",
      "+-----------+-----+-------+----+\n",
      "only showing top 20 rows\n",
      "\n"
     ]
    }
   ],
   "execution_count": 4
  },
  {
   "metadata": {
    "ExecuteTime": {
     "end_time": "2024-12-07T02:01:55.127079Z",
     "start_time": "2024-12-07T02:01:55.058610Z"
    }
   },
   "cell_type": "code",
   "source": [
    "rdd2.createOrReplaceTempView(\"departure\")\n",
    "rddTxt.createOrReplaceTempView(\"airport\")"
   ],
   "id": "82ecd96cee83ec9a",
   "outputs": [],
   "execution_count": 5
  },
  {
   "metadata": {
    "ExecuteTime": {
     "end_time": "2024-12-07T02:03:31.979202Z",
     "start_time": "2024-12-07T02:03:30.952845Z"
    }
   },
   "cell_type": "code",
   "source": "spark.sql(\"select Distinct airport.City, departure.delay, departure.origin, departure.destination from airport inner join departure on airport.IATA=departure.origin where departure.origin = 'ATL' AND departure.destination = 'EWR' ORDER BY departure.delay asc\").show(500)",
   "id": "beb0e575df95493d",
   "outputs": [
    {
     "name": "stdout",
     "output_type": "stream",
     "text": [
      "+-------+-----+------+-----------+\n",
      "|   City|delay|origin|destination|\n",
      "+-------+-----+------+-----------+\n",
      "|Atlanta|  -11|   ATL|        EWR|\n",
      "|Atlanta|  -10|   ATL|        EWR|\n",
      "|Atlanta|   -9|   ATL|        EWR|\n",
      "|Atlanta|   -8|   ATL|        EWR|\n",
      "|Atlanta|   -7|   ATL|        EWR|\n",
      "|Atlanta|   -6|   ATL|        EWR|\n",
      "|Atlanta|   -5|   ATL|        EWR|\n",
      "|Atlanta|   -4|   ATL|        EWR|\n",
      "|Atlanta|   -3|   ATL|        EWR|\n",
      "|Atlanta|   -2|   ATL|        EWR|\n",
      "|Atlanta|   -1|   ATL|        EWR|\n",
      "|Atlanta|    0|   ATL|        EWR|\n",
      "|Atlanta|    1|   ATL|        EWR|\n",
      "|Atlanta|    2|   ATL|        EWR|\n",
      "|Atlanta|    3|   ATL|        EWR|\n",
      "|Atlanta|    4|   ATL|        EWR|\n",
      "|Atlanta|    5|   ATL|        EWR|\n",
      "|Atlanta|    6|   ATL|        EWR|\n",
      "|Atlanta|    7|   ATL|        EWR|\n",
      "|Atlanta|    8|   ATL|        EWR|\n",
      "|Atlanta|    9|   ATL|        EWR|\n",
      "|Atlanta|   10|   ATL|        EWR|\n",
      "|Atlanta|   11|   ATL|        EWR|\n",
      "|Atlanta|   12|   ATL|        EWR|\n",
      "|Atlanta|   13|   ATL|        EWR|\n",
      "|Atlanta|   14|   ATL|        EWR|\n",
      "|Atlanta|   15|   ATL|        EWR|\n",
      "|Atlanta|   16|   ATL|        EWR|\n",
      "|Atlanta|   17|   ATL|        EWR|\n",
      "|Atlanta|   18|   ATL|        EWR|\n",
      "|Atlanta|   19|   ATL|        EWR|\n",
      "|Atlanta|   20|   ATL|        EWR|\n",
      "|Atlanta|   21|   ATL|        EWR|\n",
      "|Atlanta|   22|   ATL|        EWR|\n",
      "|Atlanta|   23|   ATL|        EWR|\n",
      "|Atlanta|   24|   ATL|        EWR|\n",
      "|Atlanta|   25|   ATL|        EWR|\n",
      "|Atlanta|   26|   ATL|        EWR|\n",
      "|Atlanta|   27|   ATL|        EWR|\n",
      "|Atlanta|   28|   ATL|        EWR|\n",
      "|Atlanta|   29|   ATL|        EWR|\n",
      "|Atlanta|   30|   ATL|        EWR|\n",
      "|Atlanta|   31|   ATL|        EWR|\n",
      "|Atlanta|   32|   ATL|        EWR|\n",
      "|Atlanta|   33|   ATL|        EWR|\n",
      "|Atlanta|   34|   ATL|        EWR|\n",
      "|Atlanta|   35|   ATL|        EWR|\n",
      "|Atlanta|   36|   ATL|        EWR|\n",
      "|Atlanta|   37|   ATL|        EWR|\n",
      "|Atlanta|   38|   ATL|        EWR|\n",
      "|Atlanta|   39|   ATL|        EWR|\n",
      "|Atlanta|   40|   ATL|        EWR|\n",
      "|Atlanta|   41|   ATL|        EWR|\n",
      "|Atlanta|   42|   ATL|        EWR|\n",
      "|Atlanta|   43|   ATL|        EWR|\n",
      "|Atlanta|   44|   ATL|        EWR|\n",
      "|Atlanta|   45|   ATL|        EWR|\n",
      "|Atlanta|   46|   ATL|        EWR|\n",
      "|Atlanta|   47|   ATL|        EWR|\n",
      "|Atlanta|   48|   ATL|        EWR|\n",
      "|Atlanta|   49|   ATL|        EWR|\n",
      "|Atlanta|   50|   ATL|        EWR|\n",
      "|Atlanta|   51|   ATL|        EWR|\n",
      "|Atlanta|   52|   ATL|        EWR|\n",
      "|Atlanta|   53|   ATL|        EWR|\n",
      "|Atlanta|   55|   ATL|        EWR|\n",
      "|Atlanta|   56|   ATL|        EWR|\n",
      "|Atlanta|   57|   ATL|        EWR|\n",
      "|Atlanta|   58|   ATL|        EWR|\n",
      "|Atlanta|   59|   ATL|        EWR|\n",
      "|Atlanta|   60|   ATL|        EWR|\n",
      "|Atlanta|   62|   ATL|        EWR|\n",
      "|Atlanta|   63|   ATL|        EWR|\n",
      "|Atlanta|   64|   ATL|        EWR|\n",
      "|Atlanta|   65|   ATL|        EWR|\n",
      "|Atlanta|   66|   ATL|        EWR|\n",
      "|Atlanta|   67|   ATL|        EWR|\n",
      "|Atlanta|   68|   ATL|        EWR|\n",
      "|Atlanta|   69|   ATL|        EWR|\n",
      "|Atlanta|   70|   ATL|        EWR|\n",
      "|Atlanta|   71|   ATL|        EWR|\n",
      "|Atlanta|   72|   ATL|        EWR|\n",
      "|Atlanta|   73|   ATL|        EWR|\n",
      "|Atlanta|   74|   ATL|        EWR|\n",
      "|Atlanta|   75|   ATL|        EWR|\n",
      "|Atlanta|   76|   ATL|        EWR|\n",
      "|Atlanta|   77|   ATL|        EWR|\n",
      "|Atlanta|   78|   ATL|        EWR|\n",
      "|Atlanta|   79|   ATL|        EWR|\n",
      "|Atlanta|   81|   ATL|        EWR|\n",
      "|Atlanta|   83|   ATL|        EWR|\n",
      "|Atlanta|   87|   ATL|        EWR|\n",
      "|Atlanta|   89|   ATL|        EWR|\n",
      "|Atlanta|   92|   ATL|        EWR|\n",
      "|Atlanta|   93|   ATL|        EWR|\n",
      "|Atlanta|   94|   ATL|        EWR|\n",
      "|Atlanta|   95|   ATL|        EWR|\n",
      "|Atlanta|   96|   ATL|        EWR|\n",
      "|Atlanta|   98|   ATL|        EWR|\n",
      "|Atlanta|   99|   ATL|        EWR|\n",
      "|Atlanta|  100|   ATL|        EWR|\n",
      "|Atlanta|  102|   ATL|        EWR|\n",
      "|Atlanta|  103|   ATL|        EWR|\n",
      "|Atlanta|  104|   ATL|        EWR|\n",
      "|Atlanta|  106|   ATL|        EWR|\n",
      "|Atlanta|  109|   ATL|        EWR|\n",
      "|Atlanta|  111|   ATL|        EWR|\n",
      "|Atlanta|  112|   ATL|        EWR|\n",
      "|Atlanta|  114|   ATL|        EWR|\n",
      "|Atlanta|  115|   ATL|        EWR|\n",
      "|Atlanta|  116|   ATL|        EWR|\n",
      "|Atlanta|  117|   ATL|        EWR|\n",
      "|Atlanta|  120|   ATL|        EWR|\n",
      "|Atlanta|  121|   ATL|        EWR|\n",
      "|Atlanta|  123|   ATL|        EWR|\n",
      "|Atlanta|  124|   ATL|        EWR|\n",
      "|Atlanta|  126|   ATL|        EWR|\n",
      "|Atlanta|  130|   ATL|        EWR|\n",
      "|Atlanta|  133|   ATL|        EWR|\n",
      "|Atlanta|  135|   ATL|        EWR|\n",
      "|Atlanta|  138|   ATL|        EWR|\n",
      "|Atlanta|  139|   ATL|        EWR|\n",
      "|Atlanta|  140|   ATL|        EWR|\n",
      "|Atlanta|  146|   ATL|        EWR|\n",
      "|Atlanta|  147|   ATL|        EWR|\n",
      "|Atlanta|  149|   ATL|        EWR|\n",
      "|Atlanta|  150|   ATL|        EWR|\n",
      "|Atlanta|  152|   ATL|        EWR|\n",
      "|Atlanta|  153|   ATL|        EWR|\n",
      "|Atlanta|  154|   ATL|        EWR|\n",
      "|Atlanta|  156|   ATL|        EWR|\n",
      "|Atlanta|  159|   ATL|        EWR|\n",
      "|Atlanta|  169|   ATL|        EWR|\n",
      "|Atlanta|  173|   ATL|        EWR|\n",
      "|Atlanta|  186|   ATL|        EWR|\n",
      "|Atlanta|  189|   ATL|        EWR|\n",
      "|Atlanta|  193|   ATL|        EWR|\n",
      "|Atlanta|  204|   ATL|        EWR|\n",
      "|Atlanta|  205|   ATL|        EWR|\n",
      "|Atlanta|  209|   ATL|        EWR|\n",
      "|Atlanta|  219|   ATL|        EWR|\n",
      "|Atlanta|  221|   ATL|        EWR|\n",
      "|Atlanta|  222|   ATL|        EWR|\n",
      "|Atlanta|  229|   ATL|        EWR|\n",
      "|Atlanta|  250|   ATL|        EWR|\n",
      "|Atlanta|  262|   ATL|        EWR|\n",
      "|Atlanta|  274|   ATL|        EWR|\n",
      "|Atlanta|  318|   ATL|        EWR|\n",
      "|Atlanta|  352|   ATL|        EWR|\n",
      "|Atlanta|  391|   ATL|        EWR|\n",
      "+-------+-----+------+-----------+\n",
      "\n"
     ]
    }
   ],
   "execution_count": 8
  },
  {
   "metadata": {
    "ExecuteTime": {
     "end_time": "2024-12-07T02:01:57.707881Z",
     "start_time": "2024-12-07T02:01:57.705175Z"
    }
   },
   "cell_type": "code",
   "source": "",
   "id": "90f866cbf4fa78a4",
   "outputs": [],
   "execution_count": null
  }
 ],
 "metadata": {
  "kernelspec": {
   "display_name": "Python 3",
   "language": "python",
   "name": "python3"
  },
  "language_info": {
   "codemirror_mode": {
    "name": "ipython",
    "version": 2
   },
   "file_extension": ".py",
   "mimetype": "text/x-python",
   "name": "python",
   "nbconvert_exporter": "python",
   "pygments_lexer": "ipython2",
   "version": "2.7.6"
  }
 },
 "nbformat": 4,
 "nbformat_minor": 5
}
