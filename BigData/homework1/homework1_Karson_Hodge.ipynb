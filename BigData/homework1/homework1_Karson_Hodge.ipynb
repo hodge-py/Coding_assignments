{
 "cells": [
  {
   "cell_type": "code",
   "id": "initial_id",
   "metadata": {
    "collapsed": true,
    "ExecuteTime": {
     "end_time": "2024-10-15T19:42:36.667604Z",
     "start_time": "2024-10-15T19:42:36.663911Z"
    }
   },
   "source": [
    "from pyspark.sql import SparkSession # import spark sessions\n",
    "from pyspark.sql.types import IntegerType\n",
    "from datetime import datetime, date\n",
    "import pandas as pd\n",
    "from pyspark.sql import Row\n",
    "import os, sys\n",
    "os.environ['PYSPARK_PYTHON'] = sys.executable # needed for spark to work with python, grabs the venv python executable\n",
    "os.environ['PYSPARK_DRIVER_PYTHON'] = sys.executable"
   ],
   "outputs": [],
   "execution_count": 57
  },
  {
   "metadata": {
    "ExecuteTime": {
     "end_time": "2024-10-15T19:42:36.772227Z",
     "start_time": "2024-10-15T19:42:36.675612Z"
    }
   },
   "cell_type": "code",
   "source": [
    "spark = SparkSession.builder.appName(\"homework\").getOrCreate() # creates the app to use later for sql and to read the\n",
    "rdd2 = spark.read.option(\"delimiter\", \",\").option(\"header\", True).csv(\"social_net_with_header.csv\") # read the csv file with headers enabled\n",
    "rdd = rdd2.rdd # converts the dataframe to rdd"
   ],
   "id": "5b4b5e9edd69660c",
   "outputs": [],
   "execution_count": 58
  },
  {
   "metadata": {
    "ExecuteTime": {
     "end_time": "2024-10-15T19:42:37.475841Z",
     "start_time": "2024-10-15T19:42:36.781579Z"
    }
   },
   "cell_type": "code",
   "source": [
    "smart_K = rdd.sortBy(lambda row: -int(row[3])).take(5) # sorts the table by friends. Negative sign means desc and then take the top 5 results \n",
    "print(smart_K) # print the output"
   ],
   "id": "8096ae561c4b2f59",
   "outputs": [
    {
     "name": "stdout",
     "output_type": "stream",
     "text": [
      "[Row(userID='106', name='Beverly', age='18', friends='499'), Row(userID='278', name='Data', age='44', friends='499'), Row(userID='353', name='Julian', age='64', friends='499'), Row(userID='192', name='Jadzia', age='45', friends='497'), Row(userID='266', name='Jean-Luc', age='66', friends='496')]\n"
     ]
    }
   ],
   "execution_count": 59
  },
  {
   "metadata": {
    "ExecuteTime": {
     "end_time": "2024-10-15T19:42:37.678875Z",
     "start_time": "2024-10-15T19:42:37.549196Z"
    }
   },
   "cell_type": "code",
   "source": [
    "df_students_K = spark.read.option(\"delimiter\", \",\").option(\"header\", True).csv(\"social_net_with_header.csv\") # read the csv and make a dataframe\n",
    "df_students_K = df_students_K.withColumn(\"friends\",df_students_K['friends'].cast(IntegerType())) # to sort friends, we need to convert the numbers from str to int\n",
    "df_smart_5 = df_students_K.sort(df_students_K.friends,ascending=False).take(5) # sort the dataframe column friends in desc order and take the top 5.\n",
    "print(df_smart_5)"
   ],
   "id": "6b53042b7094c18f",
   "outputs": [
    {
     "name": "stdout",
     "output_type": "stream",
     "text": [
      "[Row(userID='106', name='Beverly', age='18', friends=499), Row(userID='278', name='Data', age='44', friends=499), Row(userID='353', name='Julian', age='64', friends=499), Row(userID='192', name='Jadzia', age='45', friends=497), Row(userID='266', name='Jean-Luc', age='66', friends=496)]\n"
     ]
    }
   ],
   "execution_count": 60
  },
  {
   "metadata": {
    "ExecuteTime": {
     "end_time": "2024-10-15T19:42:37.761273Z",
     "start_time": "2024-10-15T19:42:37.751632Z"
    }
   },
   "cell_type": "code",
   "source": "df_students_K.createOrReplaceTempView(\"studentsSQL\") # create an app view for the sql table.",
   "id": "4adfaba650dd7da6",
   "outputs": [],
   "execution_count": 61
  },
  {
   "metadata": {
    "ExecuteTime": {
     "end_time": "2024-10-15T19:42:37.828195Z",
     "start_time": "2024-10-15T19:42:37.773221Z"
    }
   },
   "cell_type": "code",
   "source": [
    "smart_sql_K = spark.sql(\"select * from studentsSQL order by friends desc limit 5\") # select all columns and then order by friends desc with a limit of 5\n",
    "smart_sql_K.show() # prints the results from the sql query."
   ],
   "id": "354136cc02e7d54b",
   "outputs": [
    {
     "name": "stdout",
     "output_type": "stream",
     "text": [
      "+------+--------+---+-------+\n",
      "|userID|    name|age|friends|\n",
      "+------+--------+---+-------+\n",
      "|   106| Beverly| 18|    499|\n",
      "|   278|    Data| 44|    499|\n",
      "|   353|  Julian| 64|    499|\n",
      "|   192|  Jadzia| 45|    497|\n",
      "|   266|Jean-Luc| 66|    496|\n",
      "+------+--------+---+-------+\n",
      "\n"
     ]
    }
   ],
   "execution_count": 62
  },
  {
   "metadata": {
    "ExecuteTime": {
     "end_time": "2024-10-15T19:42:37.856457Z",
     "start_time": "2024-10-15T19:42:37.854228Z"
    }
   },
   "cell_type": "code",
   "source": "",
   "id": "f97a04509d596db",
   "outputs": [],
   "execution_count": null
  }
 ],
 "metadata": {
  "kernelspec": {
   "display_name": "Python 3",
   "language": "python",
   "name": "python3"
  },
  "language_info": {
   "codemirror_mode": {
    "name": "ipython",
    "version": 2
   },
   "file_extension": ".py",
   "mimetype": "text/x-python",
   "name": "python",
   "nbconvert_exporter": "python",
   "pygments_lexer": "ipython2",
   "version": "2.7.6"
  }
 },
 "nbformat": 4,
 "nbformat_minor": 5
}
