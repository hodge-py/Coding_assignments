{
 "cells": [
  {
   "attachments": {},
   "cell_type": "markdown",
   "metadata": {},
   "source": [
    "<center>\n",
    "<h1> Assignment 1: Data Preprocessing</h1>\n",
    "<hr>\n",
    "<h2>UFO Sighting Data Exploration</h2>\n",
    "<hr>\n",
    "<h3> MCIS 6283-Machine Learning </h3>\n",
    "\n",
    "<h3><mark>Due date: March 2 11.30 PM, 2025 (Sunday)</mark></h3>\n",
    "<h3>Total Points: 100</h3>\n",
    "\n",
    "<h4>Instructor: Dr Ashraf Bhuiyan</h4>\n",
    "<h4>Department of Math & Computer Science</h4>\n",
    "<h4>Southern Arkansas University</h4>\n",
    "\n",
    "</center>"
   ]
  },
  {
   "attachments": {},
   "cell_type": "markdown",
   "metadata": {},
   "source": [
    "### Please put your name, student ID, date and time here (5 points)\n",
    "* Name: Karson Hodge\n",
    "* Student ID: 9999-03235\n",
    "* Date: Feb 28, 2025\n",
    "* Time: 1:00pm"
   ]
  },
  {
   "cell_type": "markdown",
   "metadata": {},
   "source": [
    "* In this assignment, you will investigate UFO data over the last century to gain some insight.\n",
    "* Please use all the techniques we have learned in the class to preprocesss/clean the dataset <p style=\"color:blue\"><b>ufo_sightings_large.csv</b></p>. \n",
    "* After the dataset is preprocessed, please split the dataset into training sets and test sets\n",
    "* Fit KNN to the training sets. \n",
    "* Print the score of KNN on the test sets"
   ]
  },
  {
   "cell_type": "markdown",
   "metadata": {},
   "source": [
    "## 1. Import dataset \"ufo_sightings_large.csv\" in pandas (5 points)"
   ]
  },
  {
   "cell_type": "code",
   "metadata": {
    "tags": [],
    "ExecuteTime": {
     "end_time": "2025-02-28T19:38:40.404412Z",
     "start_time": "2025-02-28T19:38:40.378180Z"
    }
   },
   "source": [
    "import numpy as np\n",
    "import pandas as pd\n",
    "from matplotlib import pyplot as plt\n",
    "from sklearn.metrics import accuracy_score\n",
    "\n",
    "df = pd.read_csv('ufo_sightings_large.csv')\n",
    "df.head()"
   ],
   "outputs": [
    {
     "data": {
      "text/plain": [
       "               date              city state country      type    seconds  \\\n",
       "0   11/3/2011 19:21         woodville    wi      us   unknown  1209600.0   \n",
       "1   10/3/2004 19:05         cleveland    oh      us    circle       30.0   \n",
       "2   9/25/2009 21:00       coon rapids    mn      us     cigar        0.0   \n",
       "3  11/21/2002 05:45          clemmons    nc      us  triangle      300.0   \n",
       "4   8/19/2010 12:55  calgary (canada)    ab      ca      oval        0.0   \n",
       "\n",
       "    length_of_time                                               desc  \\\n",
       "0          2 weeks  Red blinking objects similar to airplanes or s...   \n",
       "1           30sec.               Many fighter jets flying towards UFO   \n",
       "2              NaN  Green&#44 red&#44 and blue pulses of light tha...   \n",
       "3  about 5 minutes  It was a large&#44 triangular shaped flying ob...   \n",
       "4                2     A white spinning disc in the shape of an oval.   \n",
       "\n",
       "     recorded         lat        long  \n",
       "0  12/12/2011  44.9530556  -92.291111  \n",
       "1  10/27/2004  41.4994444  -81.695556  \n",
       "2  12/12/2009  45.1200000  -93.287500  \n",
       "3  12/23/2002  36.0213889  -80.382222  \n",
       "4   8/24/2010   51.083333 -114.083333  "
      ],
      "text/html": [
       "<div>\n",
       "<style scoped>\n",
       "    .dataframe tbody tr th:only-of-type {\n",
       "        vertical-align: middle;\n",
       "    }\n",
       "\n",
       "    .dataframe tbody tr th {\n",
       "        vertical-align: top;\n",
       "    }\n",
       "\n",
       "    .dataframe thead th {\n",
       "        text-align: right;\n",
       "    }\n",
       "</style>\n",
       "<table border=\"1\" class=\"dataframe\">\n",
       "  <thead>\n",
       "    <tr style=\"text-align: right;\">\n",
       "      <th></th>\n",
       "      <th>date</th>\n",
       "      <th>city</th>\n",
       "      <th>state</th>\n",
       "      <th>country</th>\n",
       "      <th>type</th>\n",
       "      <th>seconds</th>\n",
       "      <th>length_of_time</th>\n",
       "      <th>desc</th>\n",
       "      <th>recorded</th>\n",
       "      <th>lat</th>\n",
       "      <th>long</th>\n",
       "    </tr>\n",
       "  </thead>\n",
       "  <tbody>\n",
       "    <tr>\n",
       "      <th>0</th>\n",
       "      <td>11/3/2011 19:21</td>\n",
       "      <td>woodville</td>\n",
       "      <td>wi</td>\n",
       "      <td>us</td>\n",
       "      <td>unknown</td>\n",
       "      <td>1209600.0</td>\n",
       "      <td>2 weeks</td>\n",
       "      <td>Red blinking objects similar to airplanes or s...</td>\n",
       "      <td>12/12/2011</td>\n",
       "      <td>44.9530556</td>\n",
       "      <td>-92.291111</td>\n",
       "    </tr>\n",
       "    <tr>\n",
       "      <th>1</th>\n",
       "      <td>10/3/2004 19:05</td>\n",
       "      <td>cleveland</td>\n",
       "      <td>oh</td>\n",
       "      <td>us</td>\n",
       "      <td>circle</td>\n",
       "      <td>30.0</td>\n",
       "      <td>30sec.</td>\n",
       "      <td>Many fighter jets flying towards UFO</td>\n",
       "      <td>10/27/2004</td>\n",
       "      <td>41.4994444</td>\n",
       "      <td>-81.695556</td>\n",
       "    </tr>\n",
       "    <tr>\n",
       "      <th>2</th>\n",
       "      <td>9/25/2009 21:00</td>\n",
       "      <td>coon rapids</td>\n",
       "      <td>mn</td>\n",
       "      <td>us</td>\n",
       "      <td>cigar</td>\n",
       "      <td>0.0</td>\n",
       "      <td>NaN</td>\n",
       "      <td>Green&amp;#44 red&amp;#44 and blue pulses of light tha...</td>\n",
       "      <td>12/12/2009</td>\n",
       "      <td>45.1200000</td>\n",
       "      <td>-93.287500</td>\n",
       "    </tr>\n",
       "    <tr>\n",
       "      <th>3</th>\n",
       "      <td>11/21/2002 05:45</td>\n",
       "      <td>clemmons</td>\n",
       "      <td>nc</td>\n",
       "      <td>us</td>\n",
       "      <td>triangle</td>\n",
       "      <td>300.0</td>\n",
       "      <td>about 5 minutes</td>\n",
       "      <td>It was a large&amp;#44 triangular shaped flying ob...</td>\n",
       "      <td>12/23/2002</td>\n",
       "      <td>36.0213889</td>\n",
       "      <td>-80.382222</td>\n",
       "    </tr>\n",
       "    <tr>\n",
       "      <th>4</th>\n",
       "      <td>8/19/2010 12:55</td>\n",
       "      <td>calgary (canada)</td>\n",
       "      <td>ab</td>\n",
       "      <td>ca</td>\n",
       "      <td>oval</td>\n",
       "      <td>0.0</td>\n",
       "      <td>2</td>\n",
       "      <td>A white spinning disc in the shape of an oval.</td>\n",
       "      <td>8/24/2010</td>\n",
       "      <td>51.083333</td>\n",
       "      <td>-114.083333</td>\n",
       "    </tr>\n",
       "  </tbody>\n",
       "</table>\n",
       "</div>"
      ]
     },
     "execution_count": 55,
     "metadata": {},
     "output_type": "execute_result"
    }
   ],
   "execution_count": 55
  },
  {
   "cell_type": "markdown",
   "metadata": {},
   "source": [
    "## 2. Checking column types & Converting Column types (10 points)\n",
    "Take a look at the UFO dataset's column types using the dtypes attribute. Please convert the column types to the proper types.\n",
    "For example, the date column, which can be transformed into the datetime type. \n",
    "That will make our feature engineering efforts easier later on."
   ]
  },
  {
   "cell_type": "code",
   "metadata": {
    "collapsed": true,
    "jupyter": {
     "outputs_hidden": true
    },
    "ExecuteTime": {
     "end_time": "2025-02-28T19:38:40.447590Z",
     "start_time": "2025-02-28T19:38:40.442076Z"
    }
   },
   "source": "print(df.dtypes)",
   "outputs": [
    {
     "name": "stdout",
     "output_type": "stream",
     "text": [
      "date               object\n",
      "city               object\n",
      "state              object\n",
      "country            object\n",
      "type               object\n",
      "seconds           float64\n",
      "length_of_time     object\n",
      "desc               object\n",
      "recorded           object\n",
      "lat                object\n",
      "long              float64\n",
      "dtype: object\n"
     ]
    }
   ],
   "execution_count": 56
  },
  {
   "metadata": {
    "ExecuteTime": {
     "end_time": "2025-02-28T19:38:40.714806Z",
     "start_time": "2025-02-28T19:38:40.495556Z"
    }
   },
   "cell_type": "code",
   "source": [
    "df = df.astype({'date': 'datetime64[ns]','city': 'string','state': 'string', 'type': 'string','length_of_time': 'string','desc': 'string'})\n",
    "df.head(140)"
   ],
   "outputs": [
    {
     "data": {
      "text/plain": [
       "                   date              city state country      type    seconds  \\\n",
       "0   2011-11-03 19:21:00         woodville    wi      us   unknown  1209600.0   \n",
       "1   2004-10-03 19:05:00         cleveland    oh      us    circle       30.0   \n",
       "2   2009-09-25 21:00:00       coon rapids    mn      us     cigar        0.0   \n",
       "3   2002-11-21 05:45:00          clemmons    nc      us  triangle      300.0   \n",
       "4   2010-08-19 12:55:00  calgary (canada)    ab      ca      oval        0.0   \n",
       "..                  ...               ...   ...     ...       ...        ...   \n",
       "135 2013-12-27 17:30:00          vandalia    il      us     light      600.0   \n",
       "136 2007-10-21 01:00:00         maysville    ky      us     light  2631600.0   \n",
       "137 2009-01-20 22:00:00      damiansville    il      us   unknown      600.0   \n",
       "138 2011-11-12 23:38:00              <NA>  <NA>     NaN      <NA>        0.0   \n",
       "139 2010-01-05 16:00:00           clinton    nj      us     cigar  1814400.0   \n",
       "\n",
       "      length_of_time                                               desc  \\\n",
       "0            2 weeks  Red blinking objects similar to airplanes or s...   \n",
       "1             30sec.               Many fighter jets flying towards UFO   \n",
       "2               <NA>  Green&#44 red&#44 and blue pulses of light tha...   \n",
       "3    about 5 minutes  It was a large&#44 triangular shaped flying ob...   \n",
       "4                  2     A white spinning disc in the shape of an oval.   \n",
       "..               ...                                                ...   \n",
       "135       10 minutes     &quot;Star&quot; moves after being stationary.   \n",
       "136          1 month                   strange lights over maysville ky   \n",
       "137         5-10 min  It had a bright light in the front that looked...   \n",
       "138           circle                                          3 seconds   \n",
       "139          3 weeks                          Traveling to Pennylvania.   \n",
       "\n",
       "                                              recorded         lat        long  \n",
       "0                                           12/12/2011  44.9530556  -92.291111  \n",
       "1                                           10/27/2004  41.4994444  -81.695556  \n",
       "2                                           12/12/2009  45.1200000  -93.287500  \n",
       "3                                           12/23/2002  36.0213889  -80.382222  \n",
       "4                                            8/24/2010   51.083333 -114.083333  \n",
       "..                                                 ...         ...         ...  \n",
       "135                                          1/10/2014  38.9605556  -89.093611  \n",
       "136                                         11/28/2007  38.6411111  -83.744444  \n",
       "137                                          3/19/2009  38.5100000  -89.619444  \n",
       "138  A doghnut shaped light&#44 size of the sun mov...    2/3/2012    0.000000  \n",
       "139                                          2/14/2010  40.6366667  -74.910278  \n",
       "\n",
       "[140 rows x 11 columns]"
      ],
      "text/html": [
       "<div>\n",
       "<style scoped>\n",
       "    .dataframe tbody tr th:only-of-type {\n",
       "        vertical-align: middle;\n",
       "    }\n",
       "\n",
       "    .dataframe tbody tr th {\n",
       "        vertical-align: top;\n",
       "    }\n",
       "\n",
       "    .dataframe thead th {\n",
       "        text-align: right;\n",
       "    }\n",
       "</style>\n",
       "<table border=\"1\" class=\"dataframe\">\n",
       "  <thead>\n",
       "    <tr style=\"text-align: right;\">\n",
       "      <th></th>\n",
       "      <th>date</th>\n",
       "      <th>city</th>\n",
       "      <th>state</th>\n",
       "      <th>country</th>\n",
       "      <th>type</th>\n",
       "      <th>seconds</th>\n",
       "      <th>length_of_time</th>\n",
       "      <th>desc</th>\n",
       "      <th>recorded</th>\n",
       "      <th>lat</th>\n",
       "      <th>long</th>\n",
       "    </tr>\n",
       "  </thead>\n",
       "  <tbody>\n",
       "    <tr>\n",
       "      <th>0</th>\n",
       "      <td>2011-11-03 19:21:00</td>\n",
       "      <td>woodville</td>\n",
       "      <td>wi</td>\n",
       "      <td>us</td>\n",
       "      <td>unknown</td>\n",
       "      <td>1209600.0</td>\n",
       "      <td>2 weeks</td>\n",
       "      <td>Red blinking objects similar to airplanes or s...</td>\n",
       "      <td>12/12/2011</td>\n",
       "      <td>44.9530556</td>\n",
       "      <td>-92.291111</td>\n",
       "    </tr>\n",
       "    <tr>\n",
       "      <th>1</th>\n",
       "      <td>2004-10-03 19:05:00</td>\n",
       "      <td>cleveland</td>\n",
       "      <td>oh</td>\n",
       "      <td>us</td>\n",
       "      <td>circle</td>\n",
       "      <td>30.0</td>\n",
       "      <td>30sec.</td>\n",
       "      <td>Many fighter jets flying towards UFO</td>\n",
       "      <td>10/27/2004</td>\n",
       "      <td>41.4994444</td>\n",
       "      <td>-81.695556</td>\n",
       "    </tr>\n",
       "    <tr>\n",
       "      <th>2</th>\n",
       "      <td>2009-09-25 21:00:00</td>\n",
       "      <td>coon rapids</td>\n",
       "      <td>mn</td>\n",
       "      <td>us</td>\n",
       "      <td>cigar</td>\n",
       "      <td>0.0</td>\n",
       "      <td>&lt;NA&gt;</td>\n",
       "      <td>Green&amp;#44 red&amp;#44 and blue pulses of light tha...</td>\n",
       "      <td>12/12/2009</td>\n",
       "      <td>45.1200000</td>\n",
       "      <td>-93.287500</td>\n",
       "    </tr>\n",
       "    <tr>\n",
       "      <th>3</th>\n",
       "      <td>2002-11-21 05:45:00</td>\n",
       "      <td>clemmons</td>\n",
       "      <td>nc</td>\n",
       "      <td>us</td>\n",
       "      <td>triangle</td>\n",
       "      <td>300.0</td>\n",
       "      <td>about 5 minutes</td>\n",
       "      <td>It was a large&amp;#44 triangular shaped flying ob...</td>\n",
       "      <td>12/23/2002</td>\n",
       "      <td>36.0213889</td>\n",
       "      <td>-80.382222</td>\n",
       "    </tr>\n",
       "    <tr>\n",
       "      <th>4</th>\n",
       "      <td>2010-08-19 12:55:00</td>\n",
       "      <td>calgary (canada)</td>\n",
       "      <td>ab</td>\n",
       "      <td>ca</td>\n",
       "      <td>oval</td>\n",
       "      <td>0.0</td>\n",
       "      <td>2</td>\n",
       "      <td>A white spinning disc in the shape of an oval.</td>\n",
       "      <td>8/24/2010</td>\n",
       "      <td>51.083333</td>\n",
       "      <td>-114.083333</td>\n",
       "    </tr>\n",
       "    <tr>\n",
       "      <th>...</th>\n",
       "      <td>...</td>\n",
       "      <td>...</td>\n",
       "      <td>...</td>\n",
       "      <td>...</td>\n",
       "      <td>...</td>\n",
       "      <td>...</td>\n",
       "      <td>...</td>\n",
       "      <td>...</td>\n",
       "      <td>...</td>\n",
       "      <td>...</td>\n",
       "      <td>...</td>\n",
       "    </tr>\n",
       "    <tr>\n",
       "      <th>135</th>\n",
       "      <td>2013-12-27 17:30:00</td>\n",
       "      <td>vandalia</td>\n",
       "      <td>il</td>\n",
       "      <td>us</td>\n",
       "      <td>light</td>\n",
       "      <td>600.0</td>\n",
       "      <td>10 minutes</td>\n",
       "      <td>&amp;quot;Star&amp;quot; moves after being stationary.</td>\n",
       "      <td>1/10/2014</td>\n",
       "      <td>38.9605556</td>\n",
       "      <td>-89.093611</td>\n",
       "    </tr>\n",
       "    <tr>\n",
       "      <th>136</th>\n",
       "      <td>2007-10-21 01:00:00</td>\n",
       "      <td>maysville</td>\n",
       "      <td>ky</td>\n",
       "      <td>us</td>\n",
       "      <td>light</td>\n",
       "      <td>2631600.0</td>\n",
       "      <td>1 month</td>\n",
       "      <td>strange lights over maysville ky</td>\n",
       "      <td>11/28/2007</td>\n",
       "      <td>38.6411111</td>\n",
       "      <td>-83.744444</td>\n",
       "    </tr>\n",
       "    <tr>\n",
       "      <th>137</th>\n",
       "      <td>2009-01-20 22:00:00</td>\n",
       "      <td>damiansville</td>\n",
       "      <td>il</td>\n",
       "      <td>us</td>\n",
       "      <td>unknown</td>\n",
       "      <td>600.0</td>\n",
       "      <td>5-10 min</td>\n",
       "      <td>It had a bright light in the front that looked...</td>\n",
       "      <td>3/19/2009</td>\n",
       "      <td>38.5100000</td>\n",
       "      <td>-89.619444</td>\n",
       "    </tr>\n",
       "    <tr>\n",
       "      <th>138</th>\n",
       "      <td>2011-11-12 23:38:00</td>\n",
       "      <td>&lt;NA&gt;</td>\n",
       "      <td>&lt;NA&gt;</td>\n",
       "      <td>NaN</td>\n",
       "      <td>&lt;NA&gt;</td>\n",
       "      <td>0.0</td>\n",
       "      <td>circle</td>\n",
       "      <td>3 seconds</td>\n",
       "      <td>A doghnut shaped light&amp;#44 size of the sun mov...</td>\n",
       "      <td>2/3/2012</td>\n",
       "      <td>0.000000</td>\n",
       "    </tr>\n",
       "    <tr>\n",
       "      <th>139</th>\n",
       "      <td>2010-01-05 16:00:00</td>\n",
       "      <td>clinton</td>\n",
       "      <td>nj</td>\n",
       "      <td>us</td>\n",
       "      <td>cigar</td>\n",
       "      <td>1814400.0</td>\n",
       "      <td>3 weeks</td>\n",
       "      <td>Traveling to Pennylvania.</td>\n",
       "      <td>2/14/2010</td>\n",
       "      <td>40.6366667</td>\n",
       "      <td>-74.910278</td>\n",
       "    </tr>\n",
       "  </tbody>\n",
       "</table>\n",
       "<p>140 rows × 11 columns</p>\n",
       "</div>"
      ]
     },
     "execution_count": 57,
     "metadata": {},
     "output_type": "execute_result"
    }
   ],
   "execution_count": 57
  },
  {
   "metadata": {},
   "cell_type": "markdown",
   "source": "An error is generated when converting recorded and lat because of the shift row in 138 so they are changed after we remove the nan values"
  },
  {
   "metadata": {
    "ExecuteTime": {
     "end_time": "2025-02-28T19:38:40.756307Z",
     "start_time": "2025-02-28T19:38:40.751870Z"
    }
   },
   "cell_type": "code",
   "source": "print(df.dtypes)",
   "outputs": [
    {
     "name": "stdout",
     "output_type": "stream",
     "text": [
      "date              datetime64[ns]\n",
      "city              string[python]\n",
      "state             string[python]\n",
      "country                   object\n",
      "type              string[python]\n",
      "seconds                  float64\n",
      "length_of_time    string[python]\n",
      "desc              string[python]\n",
      "recorded                  object\n",
      "lat                       object\n",
      "long                     float64\n",
      "dtype: object\n"
     ]
    }
   ],
   "execution_count": 58
  },
  {
   "cell_type": "markdown",
   "metadata": {},
   "source": [
    "## 3. Dropping missing data (10 points)\n",
    "Let's remove some of the rows where certain columns have missing values. "
   ]
  },
  {
   "cell_type": "code",
   "metadata": {
    "collapsed": true,
    "jupyter": {
     "outputs_hidden": true
    },
    "ExecuteTime": {
     "end_time": "2025-02-28T19:38:40.837117Z",
     "start_time": "2025-02-28T19:38:40.811806Z"
    }
   },
   "source": [
    "df_new = df.dropna()\n",
    "df_new = df_new.astype({\"recorded\":'datetime64[ns]','lat': 'float64'})\n",
    "df_new.head(10)"
   ],
   "outputs": [
    {
     "data": {
      "text/plain": [
       "                  date               city state country      type    seconds  \\\n",
       "0  2011-11-03 19:21:00          woodville    wi      us   unknown  1209600.0   \n",
       "1  2004-10-03 19:05:00          cleveland    oh      us    circle       30.0   \n",
       "3  2002-11-21 05:45:00           clemmons    nc      us  triangle      300.0   \n",
       "4  2010-08-19 12:55:00   calgary (canada)    ab      ca      oval        0.0   \n",
       "5  2012-06-16 23:00:00          san diego    ca      us     light      600.0   \n",
       "6  2009-07-12 21:30:00             duluth    mn      us      oval      600.0   \n",
       "7  2008-10-20 18:30:00          fairfield    tx      us     other        0.0   \n",
       "8  2013-06-09 00:00:00  oakville (canada)    on      ca     light      120.0   \n",
       "9  2013-04-26 23:27:00              lacey    wa      us     light      120.0   \n",
       "10 2013-09-13 20:30:00           ben avon    pa      us    sphere      300.0   \n",
       "\n",
       "               length_of_time  \\\n",
       "0                     2 weeks   \n",
       "1                      30sec.   \n",
       "3             about 5 minutes   \n",
       "4                           2   \n",
       "5                  10 minutes   \n",
       "6   total? maybe around 10 mi   \n",
       "7   several sightings from 10   \n",
       "8                   2 minutes   \n",
       "9                   2 minutes   \n",
       "10                  5 minutes   \n",
       "\n",
       "                                                 desc   recorded        lat  \\\n",
       "0   Red blinking objects similar to airplanes or s... 2011-12-12  44.953056   \n",
       "1                Many fighter jets flying towards UFO 2004-10-27  41.499444   \n",
       "3   It was a large&#44 triangular shaped flying ob... 2002-12-23  36.021389   \n",
       "4      A white spinning disc in the shape of an oval. 2010-08-24  51.083333   \n",
       "5   Dancing lights that would fly around and then ... 2012-07-04  32.715278   \n",
       "6   A minor amber color trail&#44 (from where we w... 2012-03-13  46.783333   \n",
       "7   Multiple sightings in Central Texas (Freestone... 2009-01-10  31.724444   \n",
       "8   Brilliant orange light or chinese lantern at o... 2013-07-03  43.433333   \n",
       "9   Bright red light moving north to north west fr... 2013-05-15  47.034444   \n",
       "10  North-east moving south-west. First 7 or so li... 2013-09-30  40.508056   \n",
       "\n",
       "          long  \n",
       "0   -92.291111  \n",
       "1   -81.695556  \n",
       "3   -80.382222  \n",
       "4  -114.083333  \n",
       "5  -117.156389  \n",
       "6   -92.106389  \n",
       "7   -96.165000  \n",
       "8   -79.666667  \n",
       "9  -122.821944  \n",
       "10  -80.083333  "
      ],
      "text/html": [
       "<div>\n",
       "<style scoped>\n",
       "    .dataframe tbody tr th:only-of-type {\n",
       "        vertical-align: middle;\n",
       "    }\n",
       "\n",
       "    .dataframe tbody tr th {\n",
       "        vertical-align: top;\n",
       "    }\n",
       "\n",
       "    .dataframe thead th {\n",
       "        text-align: right;\n",
       "    }\n",
       "</style>\n",
       "<table border=\"1\" class=\"dataframe\">\n",
       "  <thead>\n",
       "    <tr style=\"text-align: right;\">\n",
       "      <th></th>\n",
       "      <th>date</th>\n",
       "      <th>city</th>\n",
       "      <th>state</th>\n",
       "      <th>country</th>\n",
       "      <th>type</th>\n",
       "      <th>seconds</th>\n",
       "      <th>length_of_time</th>\n",
       "      <th>desc</th>\n",
       "      <th>recorded</th>\n",
       "      <th>lat</th>\n",
       "      <th>long</th>\n",
       "    </tr>\n",
       "  </thead>\n",
       "  <tbody>\n",
       "    <tr>\n",
       "      <th>0</th>\n",
       "      <td>2011-11-03 19:21:00</td>\n",
       "      <td>woodville</td>\n",
       "      <td>wi</td>\n",
       "      <td>us</td>\n",
       "      <td>unknown</td>\n",
       "      <td>1209600.0</td>\n",
       "      <td>2 weeks</td>\n",
       "      <td>Red blinking objects similar to airplanes or s...</td>\n",
       "      <td>2011-12-12</td>\n",
       "      <td>44.953056</td>\n",
       "      <td>-92.291111</td>\n",
       "    </tr>\n",
       "    <tr>\n",
       "      <th>1</th>\n",
       "      <td>2004-10-03 19:05:00</td>\n",
       "      <td>cleveland</td>\n",
       "      <td>oh</td>\n",
       "      <td>us</td>\n",
       "      <td>circle</td>\n",
       "      <td>30.0</td>\n",
       "      <td>30sec.</td>\n",
       "      <td>Many fighter jets flying towards UFO</td>\n",
       "      <td>2004-10-27</td>\n",
       "      <td>41.499444</td>\n",
       "      <td>-81.695556</td>\n",
       "    </tr>\n",
       "    <tr>\n",
       "      <th>3</th>\n",
       "      <td>2002-11-21 05:45:00</td>\n",
       "      <td>clemmons</td>\n",
       "      <td>nc</td>\n",
       "      <td>us</td>\n",
       "      <td>triangle</td>\n",
       "      <td>300.0</td>\n",
       "      <td>about 5 minutes</td>\n",
       "      <td>It was a large&amp;#44 triangular shaped flying ob...</td>\n",
       "      <td>2002-12-23</td>\n",
       "      <td>36.021389</td>\n",
       "      <td>-80.382222</td>\n",
       "    </tr>\n",
       "    <tr>\n",
       "      <th>4</th>\n",
       "      <td>2010-08-19 12:55:00</td>\n",
       "      <td>calgary (canada)</td>\n",
       "      <td>ab</td>\n",
       "      <td>ca</td>\n",
       "      <td>oval</td>\n",
       "      <td>0.0</td>\n",
       "      <td>2</td>\n",
       "      <td>A white spinning disc in the shape of an oval.</td>\n",
       "      <td>2010-08-24</td>\n",
       "      <td>51.083333</td>\n",
       "      <td>-114.083333</td>\n",
       "    </tr>\n",
       "    <tr>\n",
       "      <th>5</th>\n",
       "      <td>2012-06-16 23:00:00</td>\n",
       "      <td>san diego</td>\n",
       "      <td>ca</td>\n",
       "      <td>us</td>\n",
       "      <td>light</td>\n",
       "      <td>600.0</td>\n",
       "      <td>10 minutes</td>\n",
       "      <td>Dancing lights that would fly around and then ...</td>\n",
       "      <td>2012-07-04</td>\n",
       "      <td>32.715278</td>\n",
       "      <td>-117.156389</td>\n",
       "    </tr>\n",
       "    <tr>\n",
       "      <th>6</th>\n",
       "      <td>2009-07-12 21:30:00</td>\n",
       "      <td>duluth</td>\n",
       "      <td>mn</td>\n",
       "      <td>us</td>\n",
       "      <td>oval</td>\n",
       "      <td>600.0</td>\n",
       "      <td>total? maybe around 10 mi</td>\n",
       "      <td>A minor amber color trail&amp;#44 (from where we w...</td>\n",
       "      <td>2012-03-13</td>\n",
       "      <td>46.783333</td>\n",
       "      <td>-92.106389</td>\n",
       "    </tr>\n",
       "    <tr>\n",
       "      <th>7</th>\n",
       "      <td>2008-10-20 18:30:00</td>\n",
       "      <td>fairfield</td>\n",
       "      <td>tx</td>\n",
       "      <td>us</td>\n",
       "      <td>other</td>\n",
       "      <td>0.0</td>\n",
       "      <td>several sightings from 10</td>\n",
       "      <td>Multiple sightings in Central Texas (Freestone...</td>\n",
       "      <td>2009-01-10</td>\n",
       "      <td>31.724444</td>\n",
       "      <td>-96.165000</td>\n",
       "    </tr>\n",
       "    <tr>\n",
       "      <th>8</th>\n",
       "      <td>2013-06-09 00:00:00</td>\n",
       "      <td>oakville (canada)</td>\n",
       "      <td>on</td>\n",
       "      <td>ca</td>\n",
       "      <td>light</td>\n",
       "      <td>120.0</td>\n",
       "      <td>2 minutes</td>\n",
       "      <td>Brilliant orange light or chinese lantern at o...</td>\n",
       "      <td>2013-07-03</td>\n",
       "      <td>43.433333</td>\n",
       "      <td>-79.666667</td>\n",
       "    </tr>\n",
       "    <tr>\n",
       "      <th>9</th>\n",
       "      <td>2013-04-26 23:27:00</td>\n",
       "      <td>lacey</td>\n",
       "      <td>wa</td>\n",
       "      <td>us</td>\n",
       "      <td>light</td>\n",
       "      <td>120.0</td>\n",
       "      <td>2 minutes</td>\n",
       "      <td>Bright red light moving north to north west fr...</td>\n",
       "      <td>2013-05-15</td>\n",
       "      <td>47.034444</td>\n",
       "      <td>-122.821944</td>\n",
       "    </tr>\n",
       "    <tr>\n",
       "      <th>10</th>\n",
       "      <td>2013-09-13 20:30:00</td>\n",
       "      <td>ben avon</td>\n",
       "      <td>pa</td>\n",
       "      <td>us</td>\n",
       "      <td>sphere</td>\n",
       "      <td>300.0</td>\n",
       "      <td>5 minutes</td>\n",
       "      <td>North-east moving south-west. First 7 or so li...</td>\n",
       "      <td>2013-09-30</td>\n",
       "      <td>40.508056</td>\n",
       "      <td>-80.083333</td>\n",
       "    </tr>\n",
       "  </tbody>\n",
       "</table>\n",
       "</div>"
      ]
     },
     "execution_count": 59,
     "metadata": {},
     "output_type": "execute_result"
    }
   ],
   "execution_count": 59
  },
  {
   "cell_type": "markdown",
   "metadata": {},
   "source": [
    "## 4. Extracting numbers from strings (10 points)\n",
    "The <b>length_of_time</b> column in the UFO dataset is a text field that has the number of \n",
    "minutes within the string. \n",
    "Here, you'll extract that number from that text field using regular expressions."
   ]
  },
  {
   "cell_type": "code",
   "metadata": {
    "collapsed": true,
    "jupyter": {
     "outputs_hidden": true
    },
    "ExecuteTime": {
     "end_time": "2025-02-28T19:38:40.944941Z",
     "start_time": "2025-02-28T19:38:40.931223Z"
    }
   },
   "source": [
    "numbers = df_new['length_of_time'].str.extract('(\\d+)')\n",
    "print(numbers)"
   ],
   "outputs": [
    {
     "name": "stdout",
     "output_type": "stream",
     "text": [
      "         0\n",
      "0        2\n",
      "1       30\n",
      "3        5\n",
      "4        2\n",
      "5       10\n",
      "...    ...\n",
      "4930     5\n",
      "4931    25\n",
      "4932  <NA>\n",
      "4933     2\n",
      "4934     1\n",
      "\n",
      "[3891 rows x 1 columns]\n"
     ]
    }
   ],
   "execution_count": 60
  },
  {
   "cell_type": "markdown",
   "metadata": {},
   "source": [
    "## 5. Identifying features for standardization (10 points)\n",
    "In this section, you'll investigate the variance of columns in the UFO dataset to \n",
    "determine which features should be standardized. You can log normlize the high variance column."
   ]
  },
  {
   "cell_type": "code",
   "metadata": {
    "collapsed": true,
    "jupyter": {
     "outputs_hidden": true
    },
    "ExecuteTime": {
     "end_time": "2025-02-28T19:38:41.014768Z",
     "start_time": "2025-02-28T19:38:41.006758Z"
    }
   },
   "source": "print(df_new[['seconds','lat','long']].var())",
   "outputs": [
    {
     "name": "stdout",
     "output_type": "stream",
     "text": [
      "seconds    1.691246e+10\n",
      "lat        3.289886e+01\n",
      "long       3.425806e+02\n",
      "dtype: float64\n"
     ]
    }
   ],
   "execution_count": 61
  },
  {
   "metadata": {
    "ExecuteTime": {
     "end_time": "2025-02-28T19:38:41.230913Z",
     "start_time": "2025-02-28T19:38:41.087907Z"
    }
   },
   "cell_type": "code",
   "source": [
    "plt.hist(df_new['seconds'],bins=100)\n",
    "plt.show()"
   ],
   "outputs": [
    {
     "data": {
      "text/plain": [
       "<Figure size 640x480 with 1 Axes>"
      ],
      "image/png": "[encoded data removed]"
     },
     "metadata": {},
     "output_type": "display_data"
    }
   ],
   "execution_count": 62
  },
  {
   "metadata": {
    "ExecuteTime": {
     "end_time": "2025-02-28T19:38:41.544254Z",
     "start_time": "2025-02-28T19:38:41.337953Z"
    }
   },
   "cell_type": "code",
   "source": [
    "df_new['seconds'] = np.log(df_new['seconds'])\n",
    "df_new.replace(-np.inf,0,inplace=True)\n",
    "plt.hist(df_new['seconds'])\n",
    "plt.show()"
   ],
   "outputs": [
    {
     "name": "stderr",
     "output_type": "stream",
     "text": [
      "C:\\Users\\khodg\\AppData\\Local\\Programs\\Python\\Python311\\Lib\\site-packages\\pandas\\core\\arraylike.py:399: RuntimeWarning: divide by zero encountered in log\n",
      "  result = getattr(ufunc, method)(*inputs, **kwargs)\n"
     ]
    },
    {
     "data": {
      "text/plain": [
       "<Figure size 640x480 with 1 Axes>"
      ],
      "image/png": "[encoded data removed]"
     },
     "metadata": {},
     "output_type": "display_data"
    }
   ],
   "execution_count": 63
  },
  {
   "metadata": {},
   "cell_type": "markdown",
   "source": "After standardization using logs, we see that seconds now has a normal distribution with a mean of 5. It is not necessary to standardize lat or long as they already exhibit a normal distribution"
  },
  {
   "metadata": {
    "ExecuteTime": {
     "end_time": "2025-02-28T19:38:41.565983Z",
     "start_time": "2025-02-28T19:38:41.552261Z"
    }
   },
   "cell_type": "code",
   "source": "df_new.head(100)",
   "outputs": [
    {
     "data": {
      "text/plain": [
       "                   date              city state country       type    seconds  \\\n",
       "0   2011-11-03 19:21:00         woodville    wi      us    unknown  14.005800   \n",
       "1   2004-10-03 19:05:00         cleveland    oh      us     circle   3.401197   \n",
       "3   2002-11-21 05:45:00          clemmons    nc      us   triangle   5.703782   \n",
       "4   2010-08-19 12:55:00  calgary (canada)    ab      ca       oval   0.000000   \n",
       "5   2012-06-16 23:00:00         san diego    ca      us      light   6.396930   \n",
       "..                  ...               ...   ...     ...        ...        ...   \n",
       "118 1997-12-15 03:30:00        naperville    il      us       disk   6.396930   \n",
       "119 2008-09-26 13:52:00          martinez    ca      us       oval   6.040255   \n",
       "120 2003-08-03 22:30:00           pollock    la      us      light   5.192957   \n",
       "121 2012-10-20 21:15:00           gilbert    az      us      light   5.480639   \n",
       "122 1998-03-10 19:00:00           windber    pa      us  formation   5.703782   \n",
       "\n",
       "      length_of_time                                               desc  \\\n",
       "0            2 weeks  Red blinking objects similar to airplanes or s...   \n",
       "1             30sec.               Many fighter jets flying towards UFO   \n",
       "3    about 5 minutes  It was a large&#44 triangular shaped flying ob...   \n",
       "4                  2     A white spinning disc in the shape of an oval.   \n",
       "5         10 minutes  Dancing lights that would fly around and then ...   \n",
       "..               ...                                                ...   \n",
       "118     5-10 minutes  I was retiring for the night and got into bed....   \n",
       "119          7 mins.     Bubble Shaped Object Spotted in Martinez&#44CA   \n",
       "120           3 min.  Three orange lights traveling high altitude&#4...   \n",
       "121      2-4 minutes  12 red lights over gateway airport.  1 light m...   \n",
       "122        5 minutes  Tight&#44straight-line formation hovering appr...   \n",
       "\n",
       "      recorded        lat        long  \n",
       "0   2011-12-12  44.953056  -92.291111  \n",
       "1   2004-10-27  41.499444  -81.695556  \n",
       "3   2002-12-23  36.021389  -80.382222  \n",
       "4   2010-08-24  51.083333 -114.083333  \n",
       "5   2012-07-04  32.715278 -117.156389  \n",
       "..         ...        ...         ...  \n",
       "118 2004-04-27  41.785833  -88.147222  \n",
       "119 2008-10-31  38.019444 -122.133056  \n",
       "120 2003-08-04  31.525556  -92.406944  \n",
       "121 2012-10-30  33.352778 -111.788333  \n",
       "122 1999-01-28  40.239722  -78.835278  \n",
       "\n",
       "[100 rows x 11 columns]"
      ],
      "text/html": [
       "<div>\n",
       "<style scoped>\n",
       "    .dataframe tbody tr th:only-of-type {\n",
       "        vertical-align: middle;\n",
       "    }\n",
       "\n",
       "    .dataframe tbody tr th {\n",
       "        vertical-align: top;\n",
       "    }\n",
       "\n",
       "    .dataframe thead th {\n",
       "        text-align: right;\n",
       "    }\n",
       "</style>\n",
       "<table border=\"1\" class=\"dataframe\">\n",
       "  <thead>\n",
       "    <tr style=\"text-align: right;\">\n",
       "      <th></th>\n",
       "      <th>date</th>\n",
       "      <th>city</th>\n",
       "      <th>state</th>\n",
       "      <th>country</th>\n",
       "      <th>type</th>\n",
       "      <th>seconds</th>\n",
       "      <th>length_of_time</th>\n",
       "      <th>desc</th>\n",
       "      <th>recorded</th>\n",
       "      <th>lat</th>\n",
       "      <th>long</th>\n",
       "    </tr>\n",
       "  </thead>\n",
       "  <tbody>\n",
       "    <tr>\n",
       "      <th>0</th>\n",
       "      <td>2011-11-03 19:21:00</td>\n",
       "      <td>woodville</td>\n",
       "      <td>wi</td>\n",
       "      <td>us</td>\n",
       "      <td>unknown</td>\n",
       "      <td>14.005800</td>\n",
       "      <td>2 weeks</td>\n",
       "      <td>Red blinking objects similar to airplanes or s...</td>\n",
       "      <td>2011-12-12</td>\n",
       "      <td>44.953056</td>\n",
       "      <td>-92.291111</td>\n",
       "    </tr>\n",
       "    <tr>\n",
       "      <th>1</th>\n",
       "      <td>2004-10-03 19:05:00</td>\n",
       "      <td>cleveland</td>\n",
       "      <td>oh</td>\n",
       "      <td>us</td>\n",
       "      <td>circle</td>\n",
       "      <td>3.401197</td>\n",
       "      <td>30sec.</td>\n",
       "      <td>Many fighter jets flying towards UFO</td>\n",
       "      <td>2004-10-27</td>\n",
       "      <td>41.499444</td>\n",
       "      <td>-81.695556</td>\n",
       "    </tr>\n",
       "    <tr>\n",
       "      <th>3</th>\n",
       "      <td>2002-11-21 05:45:00</td>\n",
       "      <td>clemmons</td>\n",
       "      <td>nc</td>\n",
       "      <td>us</td>\n",
       "      <td>triangle</td>\n",
       "      <td>5.703782</td>\n",
       "      <td>about 5 minutes</td>\n",
       "      <td>It was a large&amp;#44 triangular shaped flying ob...</td>\n",
       "      <td>2002-12-23</td>\n",
       "      <td>36.021389</td>\n",
       "      <td>-80.382222</td>\n",
       "    </tr>\n",
       "    <tr>\n",
       "      <th>4</th>\n",
       "      <td>2010-08-19 12:55:00</td>\n",
       "      <td>calgary (canada)</td>\n",
       "      <td>ab</td>\n",
       "      <td>ca</td>\n",
       "      <td>oval</td>\n",
       "      <td>0.000000</td>\n",
       "      <td>2</td>\n",
       "      <td>A white spinning disc in the shape of an oval.</td>\n",
       "      <td>2010-08-24</td>\n",
       "      <td>51.083333</td>\n",
       "      <td>-114.083333</td>\n",
       "    </tr>\n",
       "    <tr>\n",
       "      <th>5</th>\n",
       "      <td>2012-06-16 23:00:00</td>\n",
       "      <td>san diego</td>\n",
       "      <td>ca</td>\n",
       "      <td>us</td>\n",
       "      <td>light</td>\n",
       "      <td>6.396930</td>\n",
       "      <td>10 minutes</td>\n",
       "      <td>Dancing lights that would fly around and then ...</td>\n",
       "      <td>2012-07-04</td>\n",
       "      <td>32.715278</td>\n",
       "      <td>-117.156389</td>\n",
       "    </tr>\n",
       "    <tr>\n",
       "      <th>...</th>\n",
       "      <td>...</td>\n",
       "      <td>...</td>\n",
       "      <td>...</td>\n",
       "      <td>...</td>\n",
       "      <td>...</td>\n",
       "      <td>...</td>\n",
       "      <td>...</td>\n",
       "      <td>...</td>\n",
       "      <td>...</td>\n",
       "      <td>...</td>\n",
       "      <td>...</td>\n",
       "    </tr>\n",
       "    <tr>\n",
       "      <th>118</th>\n",
       "      <td>1997-12-15 03:30:00</td>\n",
       "      <td>naperville</td>\n",
       "      <td>il</td>\n",
       "      <td>us</td>\n",
       "      <td>disk</td>\n",
       "      <td>6.396930</td>\n",
       "      <td>5-10 minutes</td>\n",
       "      <td>I was retiring for the night and got into bed....</td>\n",
       "      <td>2004-04-27</td>\n",
       "      <td>41.785833</td>\n",
       "      <td>-88.147222</td>\n",
       "    </tr>\n",
       "    <tr>\n",
       "      <th>119</th>\n",
       "      <td>2008-09-26 13:52:00</td>\n",
       "      <td>martinez</td>\n",
       "      <td>ca</td>\n",
       "      <td>us</td>\n",
       "      <td>oval</td>\n",
       "      <td>6.040255</td>\n",
       "      <td>7 mins.</td>\n",
       "      <td>Bubble Shaped Object Spotted in Martinez&amp;#44CA</td>\n",
       "      <td>2008-10-31</td>\n",
       "      <td>38.019444</td>\n",
       "      <td>-122.133056</td>\n",
       "    </tr>\n",
       "    <tr>\n",
       "      <th>120</th>\n",
       "      <td>2003-08-03 22:30:00</td>\n",
       "      <td>pollock</td>\n",
       "      <td>la</td>\n",
       "      <td>us</td>\n",
       "      <td>light</td>\n",
       "      <td>5.192957</td>\n",
       "      <td>3 min.</td>\n",
       "      <td>Three orange lights traveling high altitude&amp;#4...</td>\n",
       "      <td>2003-08-04</td>\n",
       "      <td>31.525556</td>\n",
       "      <td>-92.406944</td>\n",
       "    </tr>\n",
       "    <tr>\n",
       "      <th>121</th>\n",
       "      <td>2012-10-20 21:15:00</td>\n",
       "      <td>gilbert</td>\n",
       "      <td>az</td>\n",
       "      <td>us</td>\n",
       "      <td>light</td>\n",
       "      <td>5.480639</td>\n",
       "      <td>2-4 minutes</td>\n",
       "      <td>12 red lights over gateway airport.  1 light m...</td>\n",
       "      <td>2012-10-30</td>\n",
       "      <td>33.352778</td>\n",
       "      <td>-111.788333</td>\n",
       "    </tr>\n",
       "    <tr>\n",
       "      <th>122</th>\n",
       "      <td>1998-03-10 19:00:00</td>\n",
       "      <td>windber</td>\n",
       "      <td>pa</td>\n",
       "      <td>us</td>\n",
       "      <td>formation</td>\n",
       "      <td>5.703782</td>\n",
       "      <td>5 minutes</td>\n",
       "      <td>Tight&amp;#44straight-line formation hovering appr...</td>\n",
       "      <td>1999-01-28</td>\n",
       "      <td>40.239722</td>\n",
       "      <td>-78.835278</td>\n",
       "    </tr>\n",
       "  </tbody>\n",
       "</table>\n",
       "<p>100 rows × 11 columns</p>\n",
       "</div>"
      ]
     },
     "execution_count": 64,
     "metadata": {},
     "output_type": "execute_result"
    }
   ],
   "execution_count": 64
  },
  {
   "cell_type": "markdown",
   "metadata": {},
   "source": [
    "## 6. Encoding categorical variables (20 points)\n",
    "There are couple of columns in the UFO dataset that need to be encoded before they can be \n",
    "modeled through scikit-learn. \n",
    "You'll do that transformation here, <b>using both binary and one-hot encoding methods\n",
    "This link can help; https://www.analyticsvidhya.com/blog/2020/08/types-of-categorical-data-encoding/ </b>."
   ]
  },
  {
   "cell_type": "code",
   "metadata": {
    "collapsed": true,
    "jupyter": {
     "outputs_hidden": true
    },
    "ExecuteTime": {
     "end_time": "2025-02-28T19:38:41.710578Z",
     "start_time": "2025-02-28T19:38:41.659289Z"
    }
   },
   "source": [
    "from category_encoders import BinaryEncoder, OneHotEncoder\n",
    "\n",
    "be = BinaryEncoder()\n",
    "binary_encode_state = be.fit_transform(df_new['state'])\n",
    "binary_encode_country = be.fit_transform(df_new['country'])\n",
    "binary_encode_type = be.fit_transform(df_new['type'])\n",
    "binary_encode_cities = be.fit_transform(df_new['city'])\n",
    "print(binary_encode_cities)"
   ],
   "outputs": [
    {
     "name": "stdout",
     "output_type": "stream",
     "text": [
      "      city_0  city_1  city_2  city_3  city_4  city_5  city_6  city_7  city_8  \\\n",
      "0          0       0       0       0       0       0       0       0       0   \n",
      "1          0       0       0       0       0       0       0       0       0   \n",
      "3          0       0       0       0       0       0       0       0       0   \n",
      "4          0       0       0       0       0       0       0       0       0   \n",
      "5          0       0       0       0       0       0       0       0       0   \n",
      "...      ...     ...     ...     ...     ...     ...     ...     ...     ...   \n",
      "4930       1       0       0       0       1       0       1       0       0   \n",
      "4931       1       0       0       0       1       0       1       0       0   \n",
      "4932       0       0       0       1       0       1       0       0       0   \n",
      "4933       0       1       1       0       1       0       1       1       1   \n",
      "4934       0       0       0       0       0       1       0       1       1   \n",
      "\n",
      "      city_9  city_10  city_11  \n",
      "0          0        0        1  \n",
      "1          0        1        0  \n",
      "3          0        1        1  \n",
      "4          1        0        0  \n",
      "5          1        0        1  \n",
      "...      ...      ...      ...  \n",
      "4930       1        0        1  \n",
      "4931       1        1        0  \n",
      "4932       1        1        1  \n",
      "4933       1        1        1  \n",
      "4934       0        1        0  \n",
      "\n",
      "[3891 rows x 12 columns]\n"
     ]
    }
   ],
   "execution_count": 65
  },
  {
   "metadata": {
    "ExecuteTime": {
     "end_time": "2025-02-28T19:38:41.984014Z",
     "start_time": "2025-02-28T19:38:41.741379Z"
    }
   },
   "cell_type": "code",
   "source": [
    "ON = OneHotEncoder()\n",
    "one_hot_encode_state = ON.fit_transform(df_new['state'])\n",
    "one_hot_encode_country = ON.fit_transform(df_new['country'])\n",
    "one_hot_encode_type = ON.fit_transform(df_new['type'])\n",
    "one_hot_encode_cities = ON.fit_transform(df_new['city'])"
   ],
   "outputs": [],
   "execution_count": 66
  },
  {
   "cell_type": "markdown",
   "metadata": {},
   "source": [
    "## 7. Text vectorization (10 points)\n",
    "Let's transform the <b>desc</b> column in the UFO dataset into tf/idf vectors, \n",
    "since there's likely something we can learn from this field."
   ]
  },
  {
   "cell_type": "code",
   "metadata": {
    "collapsed": true,
    "jupyter": {
     "outputs_hidden": true
    },
    "ExecuteTime": {
     "end_time": "2025-02-28T19:38:42.152551Z",
     "start_time": "2025-02-28T19:38:41.991057Z"
    }
   },
   "source": [
    "from sklearn.feature_extraction.text import CountVectorizer\n",
    "vectorizer = CountVectorizer()\n",
    "X_vect = vectorizer.fit_transform(df_new['desc'])\n",
    "print(X_vect.toarray())\n",
    "print(np.max(X_vect.toarray()))"
   ],
   "outputs": [
    {
     "name": "stdout",
     "output_type": "stream",
     "text": [
      "[[0 0 0 ... 0 0 0]\n",
      " [0 0 0 ... 0 0 0]\n",
      " [0 0 0 ... 0 0 0]\n",
      " ...\n",
      " [0 0 0 ... 0 0 0]\n",
      " [0 0 0 ... 0 0 0]\n",
      " [0 0 0 ... 0 0 0]]\n",
      "7\n"
     ]
    }
   ],
   "execution_count": 67
  },
  {
   "cell_type": "markdown",
   "metadata": {},
   "source": [
    "## 8. Selecting the ideal dataset (10 points)\n",
    "Let's get rid of some of the unnecessary features. "
   ]
  },
  {
   "cell_type": "code",
   "metadata": {
    "collapsed": true,
    "jupyter": {
     "outputs_hidden": true
    },
    "ExecuteTime": {
     "end_time": "2025-02-28T19:38:42.278609Z",
     "start_time": "2025-02-28T19:38:42.271807Z"
    }
   },
   "source": [
    "ufo = df_new.drop(columns=['date','city','state','country','length_of_time','desc','recorded'])\n",
    "ufo = pd.concat([ufo, binary_encode_state,binary_encode_country], axis=1)"
   ],
   "outputs": [],
   "execution_count": 68
  },
  {
   "metadata": {},
   "cell_type": "markdown",
   "source": "We removed the non-numeral variables and then added the binary encoded ones except for city as there is not a consistent pattern"
  },
  {
   "cell_type": "markdown",
   "metadata": {},
   "source": [
    "## 9. Split the X and y using train_test_split, setting stratify = y (5 points)"
   ]
  },
  {
   "cell_type": "code",
   "metadata": {
    "collapsed": true,
    "jupyter": {
     "outputs_hidden": true
    },
    "ExecuteTime": {
     "end_time": "2025-02-28T19:38:42.292692Z",
     "start_time": "2025-02-28T19:38:42.284646Z"
    }
   },
   "source": [
    "from sklearn.model_selection import train_test_split\n",
    "X = ufo.drop([\"type\"],axis = 1)\n",
    "y = ufo[\"type\"].astype(str)\n",
    "\n",
    "X_train, X_test, y_train, y_test = train_test_split(X, y, test_size = 0.2, random_state = 42)\n"
   ],
   "outputs": [],
   "execution_count": 69
  },
  {
   "attachments": {},
   "cell_type": "markdown",
   "metadata": {},
   "source": [
    "## 10. Train (fit) ML model KNeighborsClassifier (knn with n_neighbors=5) using Scikit Learn to the training sets, and print the score of knn on the test sets (5 points)"
   ]
  },
  {
   "cell_type": "code",
   "metadata": {
    "ExecuteTime": {
     "end_time": "2025-02-28T19:38:42.408688Z",
     "start_time": "2025-02-28T19:38:42.344596Z"
    }
   },
   "source": [
    "from sklearn.neighbors import KNeighborsClassifier\n",
    "knn = KNeighborsClassifier(n_neighbors=5)\n",
    "# Fit knn to the training sets\n",
    "knn.fit(X_train, y_train)\n",
    "# Print the score of knn on the test sets\n",
    "y_pred = knn.predict(X_test)\n",
    "knn.score(X_test, y_test)"
   ],
   "outputs": [
    {
     "data": {
      "text/plain": [
       "0.12836970474967907"
      ]
     },
     "execution_count": 70,
     "metadata": {},
     "output_type": "execute_result"
    }
   ],
   "execution_count": 70
  },
  {
   "cell_type": "code",
   "metadata": {
    "ExecuteTime": {
     "end_time": "2025-02-28T19:38:42.510184Z",
     "start_time": "2025-02-28T19:38:42.507964Z"
    }
   },
   "source": "",
   "outputs": [],
   "execution_count": null
  },
  {
   "metadata": {
    "ExecuteTime": {
     "end_time": "2025-02-28T19:38:42.568827Z",
     "start_time": "2025-02-28T19:38:42.566691Z"
    }
   },
   "cell_type": "code",
   "source": "",
   "outputs": [],
   "execution_count": null
  }
 ],
 "metadata": {
  "kernelspec": {
   "display_name": "Python 3 (ipykernel)",
   "language": "python",
   "name": "python3"
  },
  "language_info": {
   "codemirror_mode": {
    "name": "ipython",
    "version": 3
   },
   "file_extension": ".py",
   "mimetype": "text/x-python",
   "name": "python",
   "nbconvert_exporter": "python",
   "pygments_lexer": "ipython3",
   "version": "3.10.10"
  }
 },
 "nbformat": 4,
 "nbformat_minor": 4
}
